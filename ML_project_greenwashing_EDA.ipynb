{
  "cells": [
    {
      "cell_type": "code",
      "execution_count": 1,
      "metadata": {
        "id": "ZGD6SMHY6JJz"
      },
      "outputs": [],
      "source": [
        "# Import standard libraries\n",
        "import pandas as pd\n",
        "import matplotlib.pyplot as plt\n",
        "\n",
        "# Import for text analytics\n",
        "import spacy\n",
        "from spacy import displacy\n",
        "import string\n",
        "from collections import Counter\n",
        "\n",
        "\n",
        "# Import for text analytics\n",
        "import spacy\n",
        "from spacy import displacy\n",
        "import string\n",
        "\n",
        "# Load English language model of spacy\n",
        "sp = spacy.load('en_core_web_sm')"
      ]
    },
    {
      "attachments": {},
      "cell_type": "markdown",
      "metadata": {
        "id": "RtnVrPaTqHXb"
      },
      "source": [
        "# Final Project Machine Learning (MGT-502) - Corporate Greenwashing"
      ]
    },
    {
      "attachments": {},
      "cell_type": "markdown",
      "metadata": {
        "id": "o07nrdoyqTJc"
      },
      "source": [
        "Contributors:\n",
        "\n",
        "*   Noé Lopez\n",
        "*   Guillaume Rico\n",
        "*   Charlotte Ahrens\n",
        "\n",
        "\n",
        "\n",
        "\n",
        "\n",
        "\n",
        "\n"
      ]
    },
    {
      "attachments": {},
      "cell_type": "markdown",
      "metadata": {
        "id": "4mTqbuG16ObS"
      },
      "source": [
        "# Prelimanary Analysis"
      ]
    },
    {
      "attachments": {},
      "cell_type": "markdown",
      "metadata": {
        "id": "1Hk47yXz5FCa"
      },
      "source": [
        "## Import data set"
      ]
    },
    {
      "cell_type": "code",
      "execution_count": 2,
      "metadata": {
        "id": "buoSufuM4_nm"
      },
      "outputs": [],
      "source": [
        "# Import training dataset\n",
        "url_train = \"https://huggingface.co/datasets/climatebert/environmental_claims/raw/main/data/train.jsonl\"\n",
        "df_train = pd.read_json(url_train, lines=True)\n",
        "#df_train\n",
        "\n",
        "# Import testing dataset\n",
        "url_test = \"https://huggingface.co/datasets/climatebert/environmental_claims/raw/main/data/test.jsonl\"\n",
        "df_test = pd.read_json(url_test, lines=True)\n",
        "#df_test"
      ]
    },
    {
      "attachments": {},
      "cell_type": "markdown",
      "metadata": {
        "id": "5KCoTkV-5JUZ"
      },
      "source": [
        "## Dataset Discovery"
      ]
    },
    {
      "cell_type": "code",
      "execution_count": 3,
      "metadata": {},
      "outputs": [],
      "source": [
        "import spacy\n",
        "import unidecode\n",
        "sp = spacy.load(\"en_core_web_sm\")"
      ]
    },
    {
      "cell_type": "code",
      "execution_count": 4,
      "metadata": {},
      "outputs": [
        {
          "data": {
            "text/html": [
              "<div>\n",
              "<style scoped>\n",
              "    .dataframe tbody tr th:only-of-type {\n",
              "        vertical-align: middle;\n",
              "    }\n",
              "\n",
              "    .dataframe tbody tr th {\n",
              "        vertical-align: top;\n",
              "    }\n",
              "\n",
              "    .dataframe thead th {\n",
              "        text-align: right;\n",
              "    }\n",
              "</style>\n",
              "<table border=\"1\" class=\"dataframe\">\n",
              "  <thead>\n",
              "    <tr style=\"text-align: right;\">\n",
              "      <th></th>\n",
              "      <th>text</th>\n",
              "      <th>label</th>\n",
              "    </tr>\n",
              "  </thead>\n",
              "  <tbody>\n",
              "    <tr>\n",
              "      <th>0</th>\n",
              "      <td>It will enable E.ON to acquire and leverage a ...</td>\n",
              "      <td>0</td>\n",
              "    </tr>\n",
              "    <tr>\n",
              "      <th>1</th>\n",
              "      <td>And that's honestly most markets in the U.S. S...</td>\n",
              "      <td>0</td>\n",
              "    </tr>\n",
              "    <tr>\n",
              "      <th>2</th>\n",
              "      <td>A key pillar of our strategy is to continue to...</td>\n",
              "      <td>0</td>\n",
              "    </tr>\n",
              "    <tr>\n",
              "      <th>3</th>\n",
              "      <td>The goal to reduce relative GHG emissions by 2...</td>\n",
              "      <td>1</td>\n",
              "    </tr>\n",
              "    <tr>\n",
              "      <th>4</th>\n",
              "      <td>As you know, we drove about $75 million of cos...</td>\n",
              "      <td>0</td>\n",
              "    </tr>\n",
              "    <tr>\n",
              "      <th>...</th>\n",
              "      <td>...</td>\n",
              "      <td>...</td>\n",
              "    </tr>\n",
              "    <tr>\n",
              "      <th>2395</th>\n",
              "      <td>The collaboration will enable Nestlé to delive...</td>\n",
              "      <td>1</td>\n",
              "    </tr>\n",
              "    <tr>\n",
              "      <th>2396</th>\n",
              "      <td>Through the MOBILITY THAT ADAPTS TO MEET NEEDS...</td>\n",
              "      <td>0</td>\n",
              "    </tr>\n",
              "    <tr>\n",
              "      <th>2397</th>\n",
              "      <td>While we are making progress towards our near ...</td>\n",
              "      <td>0</td>\n",
              "    </tr>\n",
              "    <tr>\n",
              "      <th>2398</th>\n",
              "      <td>On 5 December 2019, the Federal Network Agency...</td>\n",
              "      <td>0</td>\n",
              "    </tr>\n",
              "    <tr>\n",
              "      <th>2399</th>\n",
              "      <td>Emission reductions are subtracted from gross ...</td>\n",
              "      <td>0</td>\n",
              "    </tr>\n",
              "  </tbody>\n",
              "</table>\n",
              "<p>2400 rows × 2 columns</p>\n",
              "</div>"
            ],
            "text/plain": [
              "                                                   text  label\n",
              "0     It will enable E.ON to acquire and leverage a ...      0\n",
              "1     And that's honestly most markets in the U.S. S...      0\n",
              "2     A key pillar of our strategy is to continue to...      0\n",
              "3     The goal to reduce relative GHG emissions by 2...      1\n",
              "4     As you know, we drove about $75 million of cos...      0\n",
              "...                                                 ...    ...\n",
              "2395  The collaboration will enable Nestlé to delive...      1\n",
              "2396  Through the MOBILITY THAT ADAPTS TO MEET NEEDS...      0\n",
              "2397  While we are making progress towards our near ...      0\n",
              "2398  On 5 December 2019, the Federal Network Agency...      0\n",
              "2399  Emission reductions are subtracted from gross ...      0\n",
              "\n",
              "[2400 rows x 2 columns]"
            ]
          },
          "metadata": {},
          "output_type": "display_data"
        }
      ],
      "source": [
        "display(df_train)"
      ]
    },
    {
      "cell_type": "code",
      "execution_count": 5,
      "metadata": {
        "colab": {
          "base_uri": "https://localhost:8080/",
          "height": 782
        },
        "id": "ZZZVFih24_p2",
        "outputId": "1a8e6f0a-b910-40a8-c0af-b8084f23a4d7"
      },
      "outputs": [
        {
          "name": "stdout",
          "output_type": "stream",
          "text": [
            "Information on the training dataset:\n",
            "---------------------------------------------\n",
            "\n",
            "There are 2400 observations in the training dataset.\n",
            "\n",
            "\n",
            "There are 1858 observations that are not related to the environment (label = 0)\n",
            "There are 542 observations that are environmental claims (label = 1).\n",
            "The ratio is 29.17%.\n"
          ]
        },
        {
          "data": {
            "image/png": "[encoded data removed]",
            "text/plain": [
              "<Figure size 640x480 with 1 Axes>"
            ]
          },
          "metadata": {},
          "output_type": "display_data"
        },
        {
          "name": "stdout",
          "output_type": "stream",
          "text": [
            "Example of Environmental Claim:\n",
            "The goal to reduce relative GHG emissions by 20% by 2020 was achieved in 2013.\n",
            "\n",
            "Exemple of Non Environmental Claim:\n",
            "As part of this program we are expecting to increase the seat density on our Airbus A320 fleet.\n"
          ]
        }
      ],
      "source": [
        "# Information on the training dataset\n",
        "print(\"Information on the training dataset:\")\n",
        "print(f\"{'-' * 45}\")\n",
        "print('')\n",
        "\n",
        "# display the number of observations\n",
        "num_observations = len(df_train)\n",
        "print(f\"There are {num_observations} observations in the training dataset.\")\n",
        "print('')\n",
        "print('')\n",
        "\n",
        "\n",
        "# display the number of observations per class\n",
        "num_0 = (df_train['label'] == 0).sum()\n",
        "num_1 = (df_train['label'] == 1).sum()\n",
        "ratio = (num_1/num_0)*100\n",
        "print(f\"There are {num_0} observations that are not related to the environment (label = 0)\")\n",
        "print(f\"There are {num_1} observations that are environmental claims (label = 1).\")\n",
        "print(f\"The ratio is {ratio:.2f}%.\")\n",
        "\n",
        "#plot \n",
        "column_name = 'label'\n",
        "value_counts = df_train[column_name].value_counts()\n",
        "plt.bar(value_counts.index, value_counts.values)\n",
        "plt.title(f'Number of observations per class')\n",
        "plt.xlabel(column_name)\n",
        "plt.ylabel('Count')\n",
        "plt.xticks([0, 1])\n",
        "plt.show()\n",
        "\n",
        "# Diclose exemples of claims  \n",
        "label_1_indexes = df_train[df_train['label'] == 1].index\n",
        "label_1_observation = df_train.loc[label_1_indexes[0], 'text']\n",
        "print(f\"Example of Environmental Claim:\\n{label_1_observation}\")\n",
        "print('')\n",
        "label_0_indexes = df_train[df_train['label'] == 0].index\n",
        "label_0_observation = df_train.loc[label_0_indexes[123], 'text']\n",
        "print(f\"Exemple of Non Environmental Claim:\\n{label_0_observation}\")"
      ]
    },
    {
      "cell_type": "code",
      "execution_count": 6,
      "metadata": {
        "colab": {
          "base_uri": "https://localhost:8080/",
          "height": 782
        },
        "id": "Aapg_n834_r8",
        "outputId": "0a6fb401-b393-45be-b289-c229668fb5c7"
      },
      "outputs": [
        {
          "name": "stdout",
          "output_type": "stream",
          "text": [
            "Information on the testing dataset:\n",
            "---------------------------------------------\n",
            "\n",
            "There are 300 observations in the testing dataset.\n",
            "\n",
            "\n",
            "There are 236 observations that are not related to the environment (label = 0)\n",
            "There are 64 observations that are environmental claims (label = 1).\n",
            "The ratio is 27.12%.\n"
          ]
        },
        {
          "data": {
            "image/png": "[encoded data removed]",
            "text/plain": [
              "<Figure size 640x480 with 1 Axes>"
            ]
          },
          "metadata": {},
          "output_type": "display_data"
        },
        {
          "name": "stdout",
          "output_type": "stream",
          "text": [
            "Exemple of Environmental Claim:\n",
            "All operations at Panasonic Eco Technology Center are now powered by electricity derived from 100% renewable energy.\n",
            "\n",
            "Exemple of Non Environmental Claim:\n",
            "So cohorts like young moms and young dads and broader audiences, that's been very important.\n"
          ]
        }
      ],
      "source": [
        "# Information on the testing dataset\n",
        "print(\"Information on the testing dataset:\")\n",
        "print(f\"{'-' * 45}\")\n",
        "print('')\n",
        "\n",
        "# display the number of observations\n",
        "num_observations = len(df_test)\n",
        "print(f\"There are {num_observations} observations in the testing dataset.\")\n",
        "print('')\n",
        "print('')\n",
        "\n",
        "# display the number of observations per class\n",
        "num_0 = (df_test['label'] == 0).sum()\n",
        "num_1 = (df_test['label'] == 1).sum()\n",
        "ratio = (num_1/num_0)*100\n",
        "print(f\"There are {num_0} observations that are not related to the environment (label = 0)\")\n",
        "print(f\"There are {num_1} observations that are environmental claims (label = 1).\")\n",
        "print(f\"The ratio is {ratio:.2f}%.\")\n",
        "\n",
        "#plot \n",
        "column_name = 'label'\n",
        "value_counts = df_test[column_name].value_counts()\n",
        "plt.bar(value_counts.index, value_counts.values)\n",
        "plt.title(f'Number of observations per class')\n",
        "plt.xlabel(column_name)\n",
        "plt.ylabel('Count')\n",
        "plt.xticks([0, 1])\n",
        "plt.show()\n",
        "\n",
        "# Diclose exemples of claims  \n",
        "label_1_indexes = df_test[df_test['label'] == 1].index\n",
        "label_1_observation = df_test.loc[label_1_indexes[0], 'text']\n",
        "print(f\"Exemple of Environmental Claim:\\n{label_1_observation}\")\n",
        "print('')\n",
        "label_0_indexes = df_test[df_test['label'] == 0].index\n",
        "label_0_observation = df_test.loc[label_0_indexes[123], 'text']\n",
        "print(f\"Exemple of Non Environmental Claim:\\n{label_0_observation}\")\n"
      ]
    },
    {
      "attachments": {},
      "cell_type": "markdown",
      "metadata": {
        "id": "aKqcFJL95Tlb"
      },
      "source": [
        "\n",
        "**<span style=\"color:green\"> Warning!! It is not because a claim is labelled 0, that the sentence does not talk about the environment! See example below</span>**"
      ]
    },
    {
      "cell_type": "code",
      "execution_count": 7,
      "metadata": {
        "colab": {
          "base_uri": "https://localhost:8080/"
        },
        "id": "zNi2jPqf4_uF",
        "outputId": "d77edf94-79c0-4230-dd4c-9ee166a92bf2"
      },
      "outputs": [
        {
          "name": "stdout",
          "output_type": "stream",
          "text": [
            "Label: 0\n",
            "Overview ESG Framework and Oversight Across Scope 1, 2 and 3, emissions per square metre fell 14.1 per cent to 100.51 kg CO2e/m2.\n"
          ]
        }
      ],
      "source": [
        "# access the row with index 15\n",
        "observation = df_train.loc[15]\n",
        "print(f\"Label: {observation['label']}\")\n",
        "print(observation['text'])"
      ]
    },
    {
      "attachments": {},
      "cell_type": "markdown",
      "metadata": {},
      "source": [
        "# EDA"
      ]
    },
    {
      "attachments": {},
      "cell_type": "markdown",
      "metadata": {},
      "source": [
        "Let us take a closer look at the training set. "
      ]
    },
    {
      "attachments": {},
      "cell_type": "markdown",
      "metadata": {},
      "source": [
        "## Explore words within claims"
      ]
    },
    {
      "cell_type": "code",
      "execution_count": 8,
      "metadata": {},
      "outputs": [
        {
          "name": "stdout",
          "output_type": "stream",
          "text": [
            "In total there are: 364767 words within the training dataset containing 2400 claims.\n"
          ]
        },
        {
          "data": {
            "text/plain": [
              "count    2400.00000\n",
              "mean       24.44125\n",
              "std         7.54516\n",
              "min        11.00000\n",
              "25%        18.00000\n",
              "50%        24.00000\n",
              "75%        30.00000\n",
              "max        39.00000\n",
              "Name: word_count, dtype: float64"
            ]
          },
          "execution_count": 8,
          "metadata": {},
          "output_type": "execute_result"
        }
      ],
      "source": [
        "# Receive more information on the words within the claim\n",
        "\n",
        "# Total number of words per claim in the training set\n",
        "observations = len(df_train)\n",
        "words_number = df_train[\"text\"].apply(lambda x: len(x)).sum()\n",
        "print(\"In total there are:\", words_number, \"words within the training dataset containing\", observations,\"claims.\")\n",
        "\n",
        "# Number of words per claim\n",
        "df_train[\"word_count\"] = df_train[\"text\"].apply(lambda x: len(x.split()))\n",
        "df_train[\"word_count\"].describe()"
      ]
    },
    {
      "cell_type": "code",
      "execution_count": 9,
      "metadata": {},
      "outputs": [
        {
          "data": {
            "text/html": [
              "<div>\n",
              "<style scoped>\n",
              "    .dataframe tbody tr th:only-of-type {\n",
              "        vertical-align: middle;\n",
              "    }\n",
              "\n",
              "    .dataframe tbody tr th {\n",
              "        vertical-align: top;\n",
              "    }\n",
              "\n",
              "    .dataframe thead th {\n",
              "        text-align: right;\n",
              "    }\n",
              "</style>\n",
              "<table border=\"1\" class=\"dataframe\">\n",
              "  <thead>\n",
              "    <tr style=\"text-align: right;\">\n",
              "      <th></th>\n",
              "      <th>Frequency</th>\n",
              "    </tr>\n",
              "    <tr>\n",
              "      <th>Word</th>\n",
              "      <th></th>\n",
              "    </tr>\n",
              "  </thead>\n",
              "  <tbody>\n",
              "    <tr>\n",
              "      <th>the</th>\n",
              "      <td>2796</td>\n",
              "    </tr>\n",
              "    <tr>\n",
              "      <th>and</th>\n",
              "      <td>1975</td>\n",
              "    </tr>\n",
              "    <tr>\n",
              "      <th>to</th>\n",
              "      <td>1969</td>\n",
              "    </tr>\n",
              "    <tr>\n",
              "      <th>of</th>\n",
              "      <td>1770</td>\n",
              "    </tr>\n",
              "    <tr>\n",
              "      <th>in</th>\n",
              "      <td>1320</td>\n",
              "    </tr>\n",
              "    <tr>\n",
              "      <th>a</th>\n",
              "      <td>895</td>\n",
              "    </tr>\n",
              "    <tr>\n",
              "      <th>our</th>\n",
              "      <td>843</td>\n",
              "    </tr>\n",
              "    <tr>\n",
              "      <th>we</th>\n",
              "      <td>696</td>\n",
              "    </tr>\n",
              "    <tr>\n",
              "      <th>that</th>\n",
              "      <td>635</td>\n",
              "    </tr>\n",
              "    <tr>\n",
              "      <th>is</th>\n",
              "      <td>587</td>\n",
              "    </tr>\n",
              "    <tr>\n",
              "      <th>for</th>\n",
              "      <td>549</td>\n",
              "    </tr>\n",
              "    <tr>\n",
              "      <th>with</th>\n",
              "      <td>463</td>\n",
              "    </tr>\n",
              "    <tr>\n",
              "      <th>on</th>\n",
              "      <td>452</td>\n",
              "    </tr>\n",
              "    <tr>\n",
              "      <th>as</th>\n",
              "      <td>406</td>\n",
              "    </tr>\n",
              "    <tr>\n",
              "      <th>are</th>\n",
              "      <td>356</td>\n",
              "    </tr>\n",
              "    <tr>\n",
              "      <th>by</th>\n",
              "      <td>336</td>\n",
              "    </tr>\n",
              "    <tr>\n",
              "      <th>The</th>\n",
              "      <td>312</td>\n",
              "    </tr>\n",
              "    <tr>\n",
              "      <th>energy</th>\n",
              "      <td>290</td>\n",
              "    </tr>\n",
              "    <tr>\n",
              "      <th>have</th>\n",
              "      <td>275</td>\n",
              "    </tr>\n",
              "    <tr>\n",
              "      <th>from</th>\n",
              "      <td>253</td>\n",
              "    </tr>\n",
              "  </tbody>\n",
              "</table>\n",
              "</div>"
            ],
            "text/plain": [
              "        Frequency\n",
              "Word             \n",
              "the          2796\n",
              "and          1975\n",
              "to           1969\n",
              "of           1770\n",
              "in           1320\n",
              "a             895\n",
              "our           843\n",
              "we            696\n",
              "that          635\n",
              "is            587\n",
              "for           549\n",
              "with          463\n",
              "on            452\n",
              "as            406\n",
              "are           356\n",
              "by            336\n",
              "The           312\n",
              "energy        290\n",
              "have          275\n",
              "from          253"
            ]
          },
          "metadata": {},
          "output_type": "display_data"
        },
        {
          "data": {
            "image/png": "[encoded data removed]",
            "text/plain": [
              "<Figure size 1200x800 with 1 Axes>"
            ]
          },
          "metadata": {},
          "output_type": "display_data"
        }
      ],
      "source": [
        "# Combine all claims' text into a single string\n",
        "all_text = ' '.join(df_train['text'].tolist())\n",
        "\n",
        "# Tokenize the text by splitting on whitespace\n",
        "words = all_text.split()\n",
        "\n",
        "# Count the occurrences of each word\n",
        "word_counts = Counter(words)\n",
        "\n",
        "# Get n most frequent words\n",
        "n = 20  # Specify the number of most frequent words I want to retrieve\n",
        "most_frequent_words = word_counts.most_common(n)\n",
        "\n",
        "# create a list of most frequent words\n",
        "most_common = [{\"Word\": word, \"Frequency\": frequency} for word, frequency in most_frequent_words]\n",
        "word_common = pd.DataFrame(most_common)\n",
        "word_common.set_index(\"Word\",inplace=True)\n",
        "display(word_common)\n",
        "\n",
        "#visualize the 10 most common words in a bar chart \n",
        "plt.figure(figsize=(12,8))\n",
        "word_common[\"Frequency\"].plot(kind=\"bar\",color=\"red\")\n",
        "plt.xlabel(\"Word\")\n",
        "plt.ylabel(\"Count\")\n",
        "plt.title(\"Top 20 most common words across all claims\")\n",
        "plt.xticks(rotation=45)\n",
        "plt.show()"
      ]
    },
    {
      "attachments": {},
      "cell_type": "markdown",
      "metadata": {},
      "source": [
        "## Sentence content - company name"
      ]
    },
    {
      "cell_type": "code",
      "execution_count": 10,
      "metadata": {},
      "outputs": [
        {
          "data": {
            "text/html": [
              "<div>\n",
              "<style scoped>\n",
              "    .dataframe tbody tr th:only-of-type {\n",
              "        vertical-align: middle;\n",
              "    }\n",
              "\n",
              "    .dataframe tbody tr th {\n",
              "        vertical-align: top;\n",
              "    }\n",
              "\n",
              "    .dataframe thead th {\n",
              "        text-align: right;\n",
              "    }\n",
              "</style>\n",
              "<table border=\"1\" class=\"dataframe\">\n",
              "  <thead>\n",
              "    <tr style=\"text-align: right;\">\n",
              "      <th></th>\n",
              "      <th>text</th>\n",
              "      <th>label</th>\n",
              "      <th>word_count</th>\n",
              "      <th>companies</th>\n",
              "      <th>entities</th>\n",
              "    </tr>\n",
              "  </thead>\n",
              "  <tbody>\n",
              "    <tr>\n",
              "      <th>0</th>\n",
              "      <td>It will enable E.ON to acquire and leverage a ...</td>\n",
              "      <td>0</td>\n",
              "      <td>34</td>\n",
              "      <td>[EON]</td>\n",
              "      <td>[EON]</td>\n",
              "    </tr>\n",
              "    <tr>\n",
              "      <th>1</th>\n",
              "      <td>And that's honestly most markets in the U.S. S...</td>\n",
              "      <td>0</td>\n",
              "      <td>37</td>\n",
              "      <td>[]</td>\n",
              "      <td>[70, US]</td>\n",
              "    </tr>\n",
              "    <tr>\n",
              "      <th>2</th>\n",
              "      <td>A key pillar of our strategy is to continue to...</td>\n",
              "      <td>0</td>\n",
              "      <td>39</td>\n",
              "      <td>[]</td>\n",
              "      <td>[]</td>\n",
              "    </tr>\n",
              "    <tr>\n",
              "      <th>3</th>\n",
              "      <td>The goal to reduce relative GHG emissions by 2...</td>\n",
              "      <td>1</td>\n",
              "      <td>15</td>\n",
              "      <td>[GHG]</td>\n",
              "      <td>[2020, GHG, 2013, 20]</td>\n",
              "    </tr>\n",
              "    <tr>\n",
              "      <th>4</th>\n",
              "      <td>As you know, we drove about $75 million of cos...</td>\n",
              "      <td>0</td>\n",
              "      <td>17</td>\n",
              "      <td>[]</td>\n",
              "      <td>[fiscal year 18, about 75 million, last year]</td>\n",
              "    </tr>\n",
              "    <tr>\n",
              "      <th>...</th>\n",
              "      <td>...</td>\n",
              "      <td>...</td>\n",
              "      <td>...</td>\n",
              "      <td>...</td>\n",
              "      <td>...</td>\n",
              "    </tr>\n",
              "    <tr>\n",
              "      <th>2395</th>\n",
              "      <td>The collaboration will enable Nestlé to delive...</td>\n",
              "      <td>1</td>\n",
              "      <td>26</td>\n",
              "      <td>[Nestle]</td>\n",
              "      <td>[Nestle]</td>\n",
              "    </tr>\n",
              "    <tr>\n",
              "      <th>2396</th>\n",
              "      <td>Through the MOBILITY THAT ADAPTS TO MEET NEEDS...</td>\n",
              "      <td>0</td>\n",
              "      <td>35</td>\n",
              "      <td>[Renault, Renault Tech]</td>\n",
              "      <td>[European, Renault, 2009, Renault Tech]</td>\n",
              "    </tr>\n",
              "    <tr>\n",
              "      <th>2397</th>\n",
              "      <td>While we are making progress towards our near ...</td>\n",
              "      <td>0</td>\n",
              "      <td>25</td>\n",
              "      <td>[]</td>\n",
              "      <td>[]</td>\n",
              "    </tr>\n",
              "    <tr>\n",
              "      <th>2398</th>\n",
              "      <td>On 5 December 2019, the Federal Network Agency...</td>\n",
              "      <td>0</td>\n",
              "      <td>27</td>\n",
              "      <td>[the Federal Network Agency]</td>\n",
              "      <td>[the Federal Network Agency, 5 December 2019, ...</td>\n",
              "    </tr>\n",
              "    <tr>\n",
              "      <th>2399</th>\n",
              "      <td>Emission reductions are subtracted from gross ...</td>\n",
              "      <td>0</td>\n",
              "      <td>17</td>\n",
              "      <td>[]</td>\n",
              "      <td>[Scope 1 to, 3]</td>\n",
              "    </tr>\n",
              "  </tbody>\n",
              "</table>\n",
              "<p>2400 rows × 5 columns</p>\n",
              "</div>"
            ],
            "text/plain": [
              "                                                   text  label  word_count  \\\n",
              "0     It will enable E.ON to acquire and leverage a ...      0          34   \n",
              "1     And that's honestly most markets in the U.S. S...      0          37   \n",
              "2     A key pillar of our strategy is to continue to...      0          39   \n",
              "3     The goal to reduce relative GHG emissions by 2...      1          15   \n",
              "4     As you know, we drove about $75 million of cos...      0          17   \n",
              "...                                                 ...    ...         ...   \n",
              "2395  The collaboration will enable Nestlé to delive...      1          26   \n",
              "2396  Through the MOBILITY THAT ADAPTS TO MEET NEEDS...      0          35   \n",
              "2397  While we are making progress towards our near ...      0          25   \n",
              "2398  On 5 December 2019, the Federal Network Agency...      0          27   \n",
              "2399  Emission reductions are subtracted from gross ...      0          17   \n",
              "\n",
              "                         companies  \\\n",
              "0                            [EON]   \n",
              "1                               []   \n",
              "2                               []   \n",
              "3                            [GHG]   \n",
              "4                               []   \n",
              "...                            ...   \n",
              "2395                      [Nestle]   \n",
              "2396       [Renault, Renault Tech]   \n",
              "2397                            []   \n",
              "2398  [the Federal Network Agency]   \n",
              "2399                            []   \n",
              "\n",
              "                                               entities  \n",
              "0                                                 [EON]  \n",
              "1                                              [70, US]  \n",
              "2                                                    []  \n",
              "3                                 [2020, GHG, 2013, 20]  \n",
              "4         [fiscal year 18, about 75 million, last year]  \n",
              "...                                                 ...  \n",
              "2395                                           [Nestle]  \n",
              "2396            [European, Renault, 2009, Renault Tech]  \n",
              "2397                                                 []  \n",
              "2398  [the Federal Network Agency, 5 December 2019, ...  \n",
              "2399                                    [Scope 1 to, 3]  \n",
              "\n",
              "[2400 rows x 5 columns]"
            ]
          },
          "metadata": {},
          "output_type": "display_data"
        }
      ],
      "source": [
        "entities = []\n",
        "companies = []\n",
        "\n",
        "for text in df_train[\"text\"]:\n",
        "    # Remove punctuation\n",
        "    text = text.translate(str.maketrans(\"\", \"\", string.punctuation))\n",
        "    # Change accented characters like é -> e\n",
        "    text = unidecode.unidecode(text)\n",
        "    doc = sp(text)\n",
        "    orgs = [ent.text for ent in doc.ents if ent.label_ == \"ORG\"]\n",
        "    ent = [ent.text for ent in doc.ents if ent.label_]\n",
        "    # Remove duplicates and empty strings\n",
        "    orgs = list(set([org.strip() for org in orgs if org.strip()]))\n",
        "    ent = list(set([e.strip() for e in ent if e.strip()]))\n",
        "    companies.append(orgs)\n",
        "    entities.append(ent)\n",
        "\n",
        "# Add companies and entities as new columns to the DataFrame\n",
        "df_train[\"companies\"] = companies\n",
        "df_train[\"entities\"] = entities\n",
        "\n",
        "display(df_train)"
      ]
    },
    {
      "cell_type": "code",
      "execution_count": 11,
      "metadata": {},
      "outputs": [
        {
          "name": "stdout",
          "output_type": "stream",
          "text": [
            "Claim 1:\n"
          ]
        },
        {
          "name": "stderr",
          "output_type": "stream",
          "text": [
            "c:\\Users\\Charlotte Ahrens\\anaconda3\\lib\\site-packages\\spacy\\displacy\\__init__.py:215: UserWarning: [W006] No entities to visualize found in Doc object. If this is surprising to you, make sure the Doc was processed using a model that supports named entity recognition, and check the `doc.ents` property manually if necessary.\n",
            "  warnings.warn(Warnings.W006)\n"
          ]
        },
        {
          "data": {
            "text/html": [
              "<span class=\"tex2jax_ignore\"><div class=\"entities\" style=\"line-height: 2.5; direction: ltr\">It will enable E.ON to acquire and leverage a comprehensive understanding of the transfor- mation of the energy system and the interplay between the individual submarkets in regional and local energy supply sys- tems.</div></span>"
            ],
            "text/plain": [
              "<IPython.core.display.HTML object>"
            ]
          },
          "metadata": {},
          "output_type": "display_data"
        },
        {
          "name": "stdout",
          "output_type": "stream",
          "text": [
            "Claim 2:\n"
          ]
        },
        {
          "data": {
            "text/html": [
              "<span class=\"tex2jax_ignore\"><div class=\"entities\" style=\"line-height: 2.5; direction: ltr\">And that's honestly most markets in the \n",
              "<mark class=\"entity\" style=\"background: #feca74; padding: 0.45em 0.6em; margin: 0 0.25em; line-height: 1; border-radius: 0.35em;\">\n",
              "    U.S.\n",
              "    <span style=\"font-size: 0.8em; font-weight: bold; line-height: 1; border-radius: 0.35em; vertical-align: middle; margin-left: 0.5rem\">GPE</span>\n",
              "</mark>\n",
              " So that is a fact that we think there is opportunity for us to bring some tuck-in acquisitions that help us get to our goal of \n",
              "<mark class=\"entity\" style=\"background: #e4e7d2; padding: 0.45em 0.6em; margin: 0 0.25em; line-height: 1; border-radius: 0.35em;\">\n",
              "    70%\n",
              "    <span style=\"font-size: 0.8em; font-weight: bold; line-height: 1; border-radius: 0.35em; vertical-align: middle; margin-left: 0.5rem\">PERCENT</span>\n",
              "</mark>\n",
              " and beyond.</div></span>"
            ],
            "text/plain": [
              "<IPython.core.display.HTML object>"
            ]
          },
          "metadata": {},
          "output_type": "display_data"
        },
        {
          "name": "stdout",
          "output_type": "stream",
          "text": [
            "Claim 3:\n"
          ]
        },
        {
          "data": {
            "text/html": [
              "<span class=\"tex2jax_ignore\"><div class=\"entities\" style=\"line-height: 2.5; direction: ltr\">A key pillar of our strategy is to continue to adapt our business mix to position us for longer-term low interest rates whilst continuing to serve our customers’ needs through the provision of attractive unit-linked and capital-light products. •</div></span>"
            ],
            "text/plain": [
              "<IPython.core.display.HTML object>"
            ]
          },
          "metadata": {},
          "output_type": "display_data"
        },
        {
          "name": "stdout",
          "output_type": "stream",
          "text": [
            "Claim 4:\n"
          ]
        },
        {
          "data": {
            "text/html": [
              "<span class=\"tex2jax_ignore\"><div class=\"entities\" style=\"line-height: 2.5; direction: ltr\">The goal to reduce relative \n",
              "<mark class=\"entity\" style=\"background: #7aecec; padding: 0.45em 0.6em; margin: 0 0.25em; line-height: 1; border-radius: 0.35em;\">\n",
              "    GHG\n",
              "    <span style=\"font-size: 0.8em; font-weight: bold; line-height: 1; border-radius: 0.35em; vertical-align: middle; margin-left: 0.5rem\">ORG</span>\n",
              "</mark>\n",
              " emissions by \n",
              "<mark class=\"entity\" style=\"background: #e4e7d2; padding: 0.45em 0.6em; margin: 0 0.25em; line-height: 1; border-radius: 0.35em;\">\n",
              "    20%\n",
              "    <span style=\"font-size: 0.8em; font-weight: bold; line-height: 1; border-radius: 0.35em; vertical-align: middle; margin-left: 0.5rem\">PERCENT</span>\n",
              "</mark>\n",
              " by \n",
              "<mark class=\"entity\" style=\"background: #bfe1d9; padding: 0.45em 0.6em; margin: 0 0.25em; line-height: 1; border-radius: 0.35em;\">\n",
              "    2020\n",
              "    <span style=\"font-size: 0.8em; font-weight: bold; line-height: 1; border-radius: 0.35em; vertical-align: middle; margin-left: 0.5rem\">DATE</span>\n",
              "</mark>\n",
              " was achieved in \n",
              "<mark class=\"entity\" style=\"background: #bfe1d9; padding: 0.45em 0.6em; margin: 0 0.25em; line-height: 1; border-radius: 0.35em;\">\n",
              "    2013\n",
              "    <span style=\"font-size: 0.8em; font-weight: bold; line-height: 1; border-radius: 0.35em; vertical-align: middle; margin-left: 0.5rem\">DATE</span>\n",
              "</mark>\n",
              ".</div></span>"
            ],
            "text/plain": [
              "<IPython.core.display.HTML object>"
            ]
          },
          "metadata": {},
          "output_type": "display_data"
        },
        {
          "name": "stdout",
          "output_type": "stream",
          "text": [
            "Claim 5:\n"
          ]
        },
        {
          "data": {
            "text/html": [
              "<span class=\"tex2jax_ignore\"><div class=\"entities\" style=\"line-height: 2.5; direction: ltr\">As you know, we drove \n",
              "<mark class=\"entity\" style=\"background: #e4e7d2; padding: 0.45em 0.6em; margin: 0 0.25em; line-height: 1; border-radius: 0.35em;\">\n",
              "    about $75 million\n",
              "    <span style=\"font-size: 0.8em; font-weight: bold; line-height: 1; border-radius: 0.35em; vertical-align: middle; margin-left: 0.5rem\">MONEY</span>\n",
              "</mark>\n",
              " of cost synergies \n",
              "<mark class=\"entity\" style=\"background: #bfe1d9; padding: 0.45em 0.6em; margin: 0 0.25em; line-height: 1; border-radius: 0.35em;\">\n",
              "    last year\n",
              "    <span style=\"font-size: 0.8em; font-weight: bold; line-height: 1; border-radius: 0.35em; vertical-align: middle; margin-left: 0.5rem\">DATE</span>\n",
              "</mark>\n",
              ", in \n",
              "<mark class=\"entity\" style=\"background: #bfe1d9; padding: 0.45em 0.6em; margin: 0 0.25em; line-height: 1; border-radius: 0.35em;\">\n",
              "    fiscal year '18\n",
              "    <span style=\"font-size: 0.8em; font-weight: bold; line-height: 1; border-radius: 0.35em; vertical-align: middle; margin-left: 0.5rem\">DATE</span>\n",
              "</mark>\n",
              ".</div></span>"
            ],
            "text/plain": [
              "<IPython.core.display.HTML object>"
            ]
          },
          "metadata": {},
          "output_type": "display_data"
        },
        {
          "name": "stdout",
          "output_type": "stream",
          "text": [
            "Claim 6:\n"
          ]
        },
        {
          "data": {
            "text/html": [
              "<span class=\"tex2jax_ignore\"><div class=\"entities\" style=\"line-height: 2.5; direction: ltr\">\n",
              "<mark class=\"entity\" style=\"background: #e4e7d2; padding: 0.45em 0.6em; margin: 0 0.25em; line-height: 1; border-radius: 0.35em;\">\n",
              "    1.2\n",
              "    <span style=\"font-size: 0.8em; font-weight: bold; line-height: 1; border-radius: 0.35em; vertical-align: middle; margin-left: 0.5rem\">CARDINAL</span>\n",
              "</mark>\n",
              " Significant Changes to Assets In \n",
              "<mark class=\"entity\" style=\"background: #bfe1d9; padding: 0.45em 0.6em; margin: 0 0.25em; line-height: 1; border-radius: 0.35em;\">\n",
              "    February 2016\n",
              "    <span style=\"font-size: 0.8em; font-weight: bold; line-height: 1; border-radius: 0.35em; vertical-align: middle; margin-left: 0.5rem\">DATE</span>\n",
              "</mark>\n",
              ", \n",
              "<mark class=\"entity\" style=\"background: #7aecec; padding: 0.45em 0.6em; margin: 0 0.25em; line-height: 1; border-radius: 0.35em;\">\n",
              "    AGL\n",
              "    <span style=\"font-size: 0.8em; font-weight: bold; line-height: 1; border-radius: 0.35em; vertical-align: middle; margin-left: 0.5rem\">ORG</span>\n",
              "</mark>\n",
              " created \n",
              "<mark class=\"entity\" style=\"background: #7aecec; padding: 0.45em 0.6em; margin: 0 0.25em; line-height: 1; border-radius: 0.35em;\">\n",
              "    the Powering Australian Renewables Fund\n",
              "    <span style=\"font-size: 0.8em; font-weight: bold; line-height: 1; border-radius: 0.35em; vertical-align: middle; margin-left: 0.5rem\">ORG</span>\n",
              "</mark>\n",
              " (PARF), of which \n",
              "<mark class=\"entity\" style=\"background: #7aecec; padding: 0.45em 0.6em; margin: 0 0.25em; line-height: 1; border-radius: 0.35em;\">\n",
              "    AGL\n",
              "    <span style=\"font-size: 0.8em; font-weight: bold; line-height: 1; border-radius: 0.35em; vertical-align: middle; margin-left: 0.5rem\">ORG</span>\n",
              "</mark>\n",
              " would own \n",
              "<mark class=\"entity\" style=\"background: #e4e7d2; padding: 0.45em 0.6em; margin: 0 0.25em; line-height: 1; border-radius: 0.35em;\">\n",
              "    20%\n",
              "    <span style=\"font-size: 0.8em; font-weight: bold; line-height: 1; border-radius: 0.35em; vertical-align: middle; margin-left: 0.5rem\">PERCENT</span>\n",
              "</mark>\n",
              " of the equity, to develop and own \n",
              "<mark class=\"entity\" style=\"background: #e4e7d2; padding: 0.45em 0.6em; margin: 0 0.25em; line-height: 1; border-radius: 0.35em;\">\n",
              "    approximately 1,000\n",
              "    <span style=\"font-size: 0.8em; font-weight: bold; line-height: 1; border-radius: 0.35em; vertical-align: middle; margin-left: 0.5rem\">CARDINAL</span>\n",
              "</mark>\n",
              " \n",
              "<mark class=\"entity\" style=\"background: #7aecec; padding: 0.45em 0.6em; margin: 0 0.25em; line-height: 1; border-radius: 0.35em;\">\n",
              "    MW\n",
              "    <span style=\"font-size: 0.8em; font-weight: bold; line-height: 1; border-radius: 0.35em; vertical-align: middle; margin-left: 0.5rem\">ORG</span>\n",
              "</mark>\n",
              " of large-scale renewable energy generation assets.</div></span>"
            ],
            "text/plain": [
              "<IPython.core.display.HTML object>"
            ]
          },
          "metadata": {},
          "output_type": "display_data"
        },
        {
          "name": "stdout",
          "output_type": "stream",
          "text": [
            "Claim 7:\n"
          ]
        },
        {
          "data": {
            "text/html": [
              "<span class=\"tex2jax_ignore\"><div class=\"entities\" style=\"line-height: 2.5; direction: ltr\">\n",
              "<mark class=\"entity\" style=\"background: #e4e7d2; padding: 0.45em 0.6em; margin: 0 0.25em; line-height: 1; border-radius: 0.35em;\">\n",
              "    35%\n",
              "    <span style=\"font-size: 0.8em; font-weight: bold; line-height: 1; border-radius: 0.35em; vertical-align: middle; margin-left: 0.5rem\">PERCENT</span>\n",
              "</mark>\n",
              " of the remuneration that is determined by the qualitative internal assessment of \n",
              "<mark class=\"entity\" style=\"background: #7aecec; padding: 0.45em 0.6em; margin: 0 0.25em; line-height: 1; border-radius: 0.35em;\">\n",
              "    the Executive Board\n",
              "    <span style=\"font-size: 0.8em; font-weight: bold; line-height: 1; border-radius: 0.35em; vertical-align: middle; margin-left: 0.5rem\">ORG</span>\n",
              "</mark>\n",
              " of Directors by \n",
              "<mark class=\"entity\" style=\"background: #7aecec; padding: 0.45em 0.6em; margin: 0 0.25em; line-height: 1; border-radius: 0.35em;\">\n",
              "    the Remuneration Committee of the General and Supervisory Board\n",
              "    <span style=\"font-size: 0.8em; font-weight: bold; line-height: 1; border-radius: 0.35em; vertical-align: middle; margin-left: 0.5rem\">ORG</span>\n",
              "</mark>\n",
              " is reserved.</div></span>"
            ],
            "text/plain": [
              "<IPython.core.display.HTML object>"
            ]
          },
          "metadata": {},
          "output_type": "display_data"
        },
        {
          "name": "stdout",
          "output_type": "stream",
          "text": [
            "Claim 8:\n"
          ]
        },
        {
          "data": {
            "text/html": [
              "<span class=\"tex2jax_ignore\"><div class=\"entities\" style=\"line-height: 2.5; direction: ltr\">This not only provides a clean energy solution to improve basic sanitation, but also makes effective use of plastic and other waste materials.</div></span>"
            ],
            "text/plain": [
              "<IPython.core.display.HTML object>"
            ]
          },
          "metadata": {},
          "output_type": "display_data"
        },
        {
          "name": "stdout",
          "output_type": "stream",
          "text": [
            "Claim 9:\n"
          ]
        },
        {
          "data": {
            "text/html": [
              "<span class=\"tex2jax_ignore\"><div class=\"entities\" style=\"line-height: 2.5; direction: ltr\">This requires us to be fully informed in our long-term decisions that are anchored on enhancing the capabilities of our people and being mindful of our impact on the planet.</div></span>"
            ],
            "text/plain": [
              "<IPython.core.display.HTML object>"
            ]
          },
          "metadata": {},
          "output_type": "display_data"
        },
        {
          "name": "stdout",
          "output_type": "stream",
          "text": [
            "Claim 10:\n"
          ]
        },
        {
          "data": {
            "text/html": [
              "<span class=\"tex2jax_ignore\"><div class=\"entities\" style=\"line-height: 2.5; direction: ltr\">The \n",
              "<mark class=\"entity\" style=\"background: #7aecec; padding: 0.45em 0.6em; margin: 0 0.25em; line-height: 1; border-radius: 0.35em;\">\n",
              "    Group\n",
              "    <span style=\"font-size: 0.8em; font-weight: bold; line-height: 1; border-radius: 0.35em; vertical-align: middle; margin-left: 0.5rem\">ORG</span>\n",
              "</mark>\n",
              " has therefore built its sustainability approach on \n",
              "<mark class=\"entity\" style=\"background: #e4e7d2; padding: 0.45em 0.6em; margin: 0 0.25em; line-height: 1; border-radius: 0.35em;\">\n",
              "    four\n",
              "    <span style=\"font-size: 0.8em; font-weight: bold; line-height: 1; border-radius: 0.35em; vertical-align: middle; margin-left: 0.5rem\">CARDINAL</span>\n",
              "</mark>\n",
              " areas of action: – the integration of climate into its strategy, because energy production and consumption are intrinsically linked to the challenge of climate change.</div></span>"
            ],
            "text/plain": [
              "<IPython.core.display.HTML object>"
            ]
          },
          "metadata": {},
          "output_type": "display_data"
        }
      ],
      "source": [
        "#taking a closer look at the claims different entities\n",
        "first_10_lines = df_train[\"text\"].head(10)\n",
        "text_10 = first_10_lines.to_list()\n",
        "docs = [sp(text) for text in text_10]\n",
        "\n",
        "for i, doc in enumerate(docs):\n",
        "    text_10_num = (f\"Claim {i+1}:\")\n",
        "    print(text_10_num) \n",
        "    displacy.render(doc,style=\"ent\",jupyter=True)"
      ]
    },
    {
      "cell_type": "code",
      "execution_count": 12,
      "metadata": {},
      "outputs": [
        {
          "name": "stdout",
          "output_type": "stream",
          "text": [
            "Company: ['MW'], Count: 14\n",
            "Company: ['LNG'], Count: 11\n",
            "Company: ['Bank'], Count: 6\n",
            "Company: ['EDF'], Count: 5\n",
            "Company: ['UN'], Count: 4\n",
            "Company: ['ESG'], Count: 4\n",
            "Company: ['Airbus'], Count: 4\n",
            "Company: ['RD'], Count: 3\n",
            "Company: ['Climate'], Count: 3\n",
            "Company: ['ROIC'], Count: 3\n",
            "Company: ['Tokio Marine Group'], Count: 3\n",
            "Company: ['BBVA'], Count: 3\n",
            "Company: ['AXA'], Count: 3\n",
            "Company: ['TCFD'], Count: 3\n",
            "Company: ['NGL'], Count: 2\n",
            "Company: ['Nordea'], Count: 2\n",
            "Company: ['FENC'], Count: 2\n",
            "Company: ['Energy'], Count: 2\n",
            "Company: ['Companys'], Count: 2\n",
            "Company: ['the Paris Agreement'], Count: 2\n",
            "Company: ['NTPC'], Count: 2\n",
            "Company: ['VOC'], Count: 2\n",
            "Company: ['Hydro'], Count: 2\n",
            "Company: ['KLP'], Count: 2\n",
            "Company: ['Groups'], Count: 2\n",
            "Company: ['VERBUND'], Count: 2\n",
            "Company: ['NYSPSC'], Count: 2\n",
            "Company: ['CH4'], Count: 2\n",
            "Company: ['FPSO'], Count: 2\n",
            "Company: ['Alliance'], Count: 2\n",
            "Company: ['EV'], Count: 2\n",
            "Company: ['MTN'], Count: 2\n",
            "Company: ['the Task Force'], Count: 2\n",
            "Company: ['EU'], Count: 2\n",
            "Company: ['Eagle Ford'], Count: 2\n",
            "Company: ['EPA'], Count: 2\n",
            "Company: ['BlueScope'], Count: 2\n",
            "Company: ['CECONY'], Count: 2\n",
            "Company: ['Board'], Count: 2\n",
            "Company: ['EON'], Count: 2\n",
            "Company: ['Diesel'], Count: 2\n",
            "Company: ['Shell'], Count: 2\n",
            "Company: ['BP'], Count: 2\n"
          ]
        },
        {
          "data": {
            "image/png": "[encoded data removed]",
            "text/plain": [
              "<Figure size 3000x600 with 1 Axes>"
            ]
          },
          "metadata": {},
          "output_type": "display_data"
        }
      ],
      "source": [
        "#looking for multiples in terms of the company name, including all type of claims\n",
        "company_counts = df_train[\"companies\"].value_counts()\n",
        "multiple_times = company_counts[(company_counts > 1) & (company_counts < 16)] #restrict to < 16 to exclude nan's and other entities that were titled as companies, but are other acronyms like GHG\n",
        "for company, count in multiple_times.items():\n",
        "    print(f\"Company: {company}, Count: {count}\")\n",
        "\n",
        "#displaying the count of companies visually \n",
        "plt.figure(figsize=(30,6))\n",
        "multiple_times.plot(kind=\"bar\")\n",
        "plt.xlabel(\"Company\")\n",
        "plt.ylabel(\"Count\")\n",
        "plt.title(\"Count of Companies, mentioned in the claims\")\n",
        "plt.xticks(rotation=45)\n",
        "plt.show()\n",
        "\n",
        "#I Was thinking to add hue -> depending on if the label of the countries are 0 or 1 -> differentiate it by color, but I didn't figure it out how to program it "
      ]
    },
    {
      "cell_type": "code",
      "execution_count": 13,
      "metadata": {},
      "outputs": [
        {
          "data": {
            "text/html": [
              "<div>\n",
              "<style scoped>\n",
              "    .dataframe tbody tr th:only-of-type {\n",
              "        vertical-align: middle;\n",
              "    }\n",
              "\n",
              "    .dataframe tbody tr th {\n",
              "        vertical-align: top;\n",
              "    }\n",
              "\n",
              "    .dataframe thead th {\n",
              "        text-align: right;\n",
              "    }\n",
              "</style>\n",
              "<table border=\"1\" class=\"dataframe\">\n",
              "  <thead>\n",
              "    <tr style=\"text-align: right;\">\n",
              "      <th></th>\n",
              "      <th>text</th>\n",
              "      <th>label</th>\n",
              "      <th>word_count</th>\n",
              "      <th>companies</th>\n",
              "      <th>entities</th>\n",
              "    </tr>\n",
              "  </thead>\n",
              "  <tbody>\n",
              "    <tr>\n",
              "      <th>162</th>\n",
              "      <td>As part of this program we are expecting to in...</td>\n",
              "      <td>0</td>\n",
              "      <td>18</td>\n",
              "      <td>[Airbus]</td>\n",
              "      <td>[Airbus, A320]</td>\n",
              "    </tr>\n",
              "    <tr>\n",
              "      <th>904</th>\n",
              "      <td>In conjunction with the new order, we also res...</td>\n",
              "      <td>0</td>\n",
              "      <td>31</td>\n",
              "      <td>[Airbus]</td>\n",
              "      <td>[25, Airbus]</td>\n",
              "    </tr>\n",
              "    <tr>\n",
              "      <th>1785</th>\n",
              "      <td>This enables Airbus to measure its environment...</td>\n",
              "      <td>0</td>\n",
              "      <td>22</td>\n",
              "      <td>[Airbus]</td>\n",
              "      <td>[Airbus]</td>\n",
              "    </tr>\n",
              "    <tr>\n",
              "      <th>1886</th>\n",
              "      <td>In connection with our plans to launch flights...</td>\n",
              "      <td>0</td>\n",
              "      <td>34</td>\n",
              "      <td>[Airbus]</td>\n",
              "      <td>[2021, London, April 2019, Airbus, 13, A321 Lo...</td>\n",
              "    </tr>\n",
              "  </tbody>\n",
              "</table>\n",
              "</div>"
            ],
            "text/plain": [
              "                                                   text  label  word_count  \\\n",
              "162   As part of this program we are expecting to in...      0          18   \n",
              "904   In conjunction with the new order, we also res...      0          31   \n",
              "1785  This enables Airbus to measure its environment...      0          22   \n",
              "1886  In connection with our plans to launch flights...      0          34   \n",
              "\n",
              "     companies                                           entities  \n",
              "162   [Airbus]                                     [Airbus, A320]  \n",
              "904   [Airbus]                                       [25, Airbus]  \n",
              "1785  [Airbus]                                           [Airbus]  \n",
              "1886  [Airbus]  [2021, London, April 2019, Airbus, 13, A321 Lo...  "
            ]
          },
          "metadata": {},
          "output_type": "display_data"
        }
      ],
      "source": [
        "#exploring row that talk about a specific company for example Airbus\n",
        "company_name = \"Airbus\"\n",
        "company_Airbus = df_train[df_train[\"companies\"].apply(lambda x: company_name in x)]\n",
        "display(company_Airbus)\n",
        "\n",
        "#df_train[df_train[\"companies\"].str.contains(\"Airbus\")]"
      ]
    },
    {
      "cell_type": "code",
      "execution_count": 14,
      "metadata": {},
      "outputs": [
        {
          "data": {
            "text/html": [
              "<div>\n",
              "<style scoped>\n",
              "    .dataframe tbody tr th:only-of-type {\n",
              "        vertical-align: middle;\n",
              "    }\n",
              "\n",
              "    .dataframe tbody tr th {\n",
              "        vertical-align: top;\n",
              "    }\n",
              "\n",
              "    .dataframe thead th {\n",
              "        text-align: right;\n",
              "    }\n",
              "</style>\n",
              "<table border=\"1\" class=\"dataframe\">\n",
              "  <thead>\n",
              "    <tr style=\"text-align: right;\">\n",
              "      <th></th>\n",
              "      <th>text</th>\n",
              "      <th>label</th>\n",
              "      <th>word_count</th>\n",
              "      <th>companies</th>\n",
              "      <th>entities</th>\n",
              "    </tr>\n",
              "  </thead>\n",
              "  <tbody>\n",
              "    <tr>\n",
              "      <th>3</th>\n",
              "      <td>The goal to reduce relative GHG emissions by 2...</td>\n",
              "      <td>1</td>\n",
              "      <td>15</td>\n",
              "      <td>[GHG]</td>\n",
              "      <td>[2020, GHG, 2013, 20]</td>\n",
              "    </tr>\n",
              "    <tr>\n",
              "      <th>5</th>\n",
              "      <td>1.2 Significant Changes to Assets In February ...</td>\n",
              "      <td>1</td>\n",
              "      <td>38</td>\n",
              "      <td>[MW, the Powering Australian Renewables Fund P...</td>\n",
              "      <td>[the Powering Australian Renewables Fund PARF,...</td>\n",
              "    </tr>\n",
              "    <tr>\n",
              "      <th>7</th>\n",
              "      <td>This not only provides a clean energy solution...</td>\n",
              "      <td>1</td>\n",
              "      <td>23</td>\n",
              "      <td>[]</td>\n",
              "      <td>[]</td>\n",
              "    </tr>\n",
              "    <tr>\n",
              "      <th>9</th>\n",
              "      <td>The Group has therefore built its sustainabili...</td>\n",
              "      <td>1</td>\n",
              "      <td>35</td>\n",
              "      <td>[Group]</td>\n",
              "      <td>[Group, four]</td>\n",
              "    </tr>\n",
              "    <tr>\n",
              "      <th>14</th>\n",
              "      <td>Waste As part of our ambitions to move toward ...</td>\n",
              "      <td>1</td>\n",
              "      <td>23</td>\n",
              "      <td>[]</td>\n",
              "      <td>[]</td>\n",
              "    </tr>\n",
              "  </tbody>\n",
              "</table>\n",
              "</div>"
            ],
            "text/plain": [
              "                                                 text  label  word_count  \\\n",
              "3   The goal to reduce relative GHG emissions by 2...      1          15   \n",
              "5   1.2 Significant Changes to Assets In February ...      1          38   \n",
              "7   This not only provides a clean energy solution...      1          23   \n",
              "9   The Group has therefore built its sustainabili...      1          35   \n",
              "14  Waste As part of our ambitions to move toward ...      1          23   \n",
              "\n",
              "                                            companies  \\\n",
              "3                                               [GHG]   \n",
              "5   [MW, the Powering Australian Renewables Fund P...   \n",
              "7                                                  []   \n",
              "9                                             [Group]   \n",
              "14                                                 []   \n",
              "\n",
              "                                             entities  \n",
              "3                               [2020, GHG, 2013, 20]  \n",
              "5   [the Powering Australian Renewables Fund PARF,...  \n",
              "7                                                  []  \n",
              "9                                       [Group, four]  \n",
              "14                                                 []  "
            ]
          },
          "metadata": {},
          "output_type": "display_data"
        },
        {
          "name": "stdout",
          "output_type": "stream",
          "text": [
            "Company: [], Count: 305\n",
            "Company: ['Group'], Count: 11\n",
            "Company: ['Company'], Count: 9\n",
            "Company: ['GHG'], Count: 6\n",
            "Company: ['Bank'], Count: 5\n",
            "Company: ['ESG'], Count: 3\n",
            "Company: ['EDF'], Count: 3\n",
            "Company: ['UN'], Count: 3\n",
            "Company: ['VERBUND'], Count: 2\n",
            "Company: ['Tokio Marine Group'], Count: 2\n",
            "Company: ['Alliance'], Count: 2\n"
          ]
        },
        {
          "data": {
            "image/png": "[encoded data removed]",
            "text/plain": [
              "<Figure size 800x600 with 1 Axes>"
            ]
          },
          "metadata": {},
          "output_type": "display_data"
        }
      ],
      "source": [
        "#the above shows that all Airbus claims where labelled as non-environmental claims. To get a better idea of companies that used such statements we focus on environmental claims only.\n",
        "df_train_env= df_train[df_train[\"label\"] ==1]\n",
        "display(df_train_env.head())\n",
        "\n",
        "#looking for multiples in terms of the company name\n",
        "company_counts = df_train_env[\"companies\"].value_counts()\n",
        "multiple_times_env = company_counts[company_counts >1]\n",
        "\n",
        "#displaying companies that have green claims\n",
        "for company, count in multiple_times_env.items():\n",
        "    print(f\"Company: {company}, Count: {count}\")\n",
        "# -> we see that most filtered \"companies\" are not actual companies .> filter accordingly\n",
        "\n",
        "#visually presenting the count of companies that are labelled with environmental claims  \n",
        "# Filter the specific companies\n",
        "selected_companies = [[\"EDF\"], [\"Tokio Marine Group\"]]\n",
        "filtered_counts = multiple_times_env[multiple_times_env.index.isin(selected_companies)]\n",
        "\n",
        "# Plot the counts of selected companies\n",
        "plt.figure(figsize=(8, 6))\n",
        "filtered_counts.plot(kind=\"bar\",color=\"green\")\n",
        "plt.xlabel(\"Company\")\n",
        "plt.ylabel(\"Count\")\n",
        "plt.title(\"Count of Claims from Companies with Environmental Claims\")\n",
        "plt.xticks(rotation=0)\n",
        "plt.show()"
      ]
    },
    {
      "cell_type": "code",
      "execution_count": 15,
      "metadata": {},
      "outputs": [
        {
          "data": {
            "text/html": [
              "<div>\n",
              "<style scoped>\n",
              "    .dataframe tbody tr th:only-of-type {\n",
              "        vertical-align: middle;\n",
              "    }\n",
              "\n",
              "    .dataframe tbody tr th {\n",
              "        vertical-align: top;\n",
              "    }\n",
              "\n",
              "    .dataframe thead th {\n",
              "        text-align: right;\n",
              "    }\n",
              "</style>\n",
              "<table border=\"1\" class=\"dataframe\">\n",
              "  <thead>\n",
              "    <tr style=\"text-align: right;\">\n",
              "      <th></th>\n",
              "      <th>text</th>\n",
              "      <th>label</th>\n",
              "    </tr>\n",
              "  </thead>\n",
              "  <tbody>\n",
              "    <tr>\n",
              "      <th>242</th>\n",
              "      <td>The hydropower facilities have positive effects on both economic development and the environment, and EDF applies a proactive management policy in relation to water resources, in liaison with various water stakeholders.</td>\n",
              "      <td>1</td>\n",
              "    </tr>\n",
              "    <tr>\n",
              "      <th>632</th>\n",
              "      <td>Within the EpE (3), EDF also contributed to a global study on the carbon neutrality of France in 2050.</td>\n",
              "      <td>1</td>\n",
              "    </tr>\n",
              "    <tr>\n",
              "      <th>738</th>\n",
              "      <td>All EDF group business lines are working to cut the carbon impact of the refrigerating fluids they use.</td>\n",
              "      <td>1</td>\n",
              "    </tr>\n",
              "    <tr>\n",
              "      <th>753</th>\n",
              "      <td>In March 2020, EDF committed with ARVAL to facilitating access to electric mobility for both business and residential customers, based on IZI by EDF.</td>\n",
              "      <td>0</td>\n",
              "    </tr>\n",
              "    <tr>\n",
              "      <th>949</th>\n",
              "      <td>In January 2021, the EDF group ranked first in the list of the most credible companies in terms of communication, in the utilities/energy category (1).</td>\n",
              "      <td>0</td>\n",
              "    </tr>\n",
              "    <tr>\n",
              "      <th>1012</th>\n",
              "      <td>As part of the \"Coup de Pouce Chauffage\" (3) scheme, EDF launched in January 2019 its \"Mon chauffage durable\" offer, to finance replacing ageing heating systems by more efficient ones.</td>\n",
              "      <td>0</td>\n",
              "    </tr>\n",
              "    <tr>\n",
              "      <th>1534</th>\n",
              "      <td>Consequently, the Group has an “energy markets” risk policy for all energy commodities, applicable to EDF and entities over which it has operational control.</td>\n",
              "      <td>0</td>\n",
              "    </tr>\n",
              "    <tr>\n",
              "      <th>1556</th>\n",
              "      <td>In terms of new business lines, EDF is aiming to have a portfolio of 1 million off-grid kits by 2030 and is pursuing the development of new markets such as microgrids, smart grids, storage, hydrogen, mobility, smart cities, etc.,</td>\n",
              "      <td>0</td>\n",
              "    </tr>\n",
              "  </tbody>\n",
              "</table>\n",
              "</div>"
            ],
            "text/plain": [
              "                                                                                                                                                                                                                                       text  \\\n",
              "242             The hydropower facilities have positive effects on both economic development and the environment, and EDF applies a proactive management policy in relation to water resources, in liaison with various water stakeholders.   \n",
              "632                                                                                                                                  Within the EpE (3), EDF also contributed to a global study on the carbon neutrality of France in 2050.   \n",
              "738                                                                                                                                 All EDF group business lines are working to cut the carbon impact of the refrigerating fluids they use.   \n",
              "753                                                                                   In March 2020, EDF committed with ARVAL to facilitating access to electric mobility for both business and residential customers, based on IZI by EDF.   \n",
              "949                                                                                 In January 2021, the EDF group ranked first in the list of the most credible companies in terms of communication, in the utilities/energy category (1).   \n",
              "1012                                               As part of the \"Coup de Pouce Chauffage\" (3) scheme, EDF launched in January 2019 its \"Mon chauffage durable\" offer, to finance replacing ageing heating systems by more efficient ones.   \n",
              "1534                                                                          Consequently, the Group has an “energy markets” risk policy for all energy commodities, applicable to EDF and entities over which it has operational control.   \n",
              "1556  In terms of new business lines, EDF is aiming to have a portfolio of 1 million off-grid kits by 2030 and is pursuing the development of new markets such as microgrids, smart grids, storage, hydrogen, mobility, smart cities, etc.,   \n",
              "\n",
              "      label  \n",
              "242       1  \n",
              "632       1  \n",
              "738       1  \n",
              "753       0  \n",
              "949       0  \n",
              "1012      0  \n",
              "1534      0  \n",
              "1556      0  "
            ]
          },
          "metadata": {},
          "output_type": "display_data"
        }
      ],
      "source": [
        "#check statements with multiple company counts including green and non green claims // eg: EDF = British integrated energy company, French state-owned by EDF (Électricité de France)\n",
        "pd.set_option('display.max_colwidth', None)# setting wide column to display whole text\n",
        "company_name = \"EDF\"\n",
        "company_EDF = df_train[df_train[\"companies\"].apply(lambda x: company_name in x)]\n",
        "display(company_EDF[[\"text\",\"label\"]])\n",
        "\n",
        "pd.reset_option('display.max_colwidth') # resetting the column size to normal"
      ]
    },
    {
      "attachments": {},
      "cell_type": "markdown",
      "metadata": {},
      "source": [
        "There are several statements from some companies, while some are labelled as environmental claims others were not. "
      ]
    },
    {
      "attachments": {},
      "cell_type": "markdown",
      "metadata": {},
      "source": [
        "# Sentence content - year   "
      ]
    },
    {
      "cell_type": "code",
      "execution_count": 16,
      "metadata": {},
      "outputs": [
        {
          "name": "stdout",
          "output_type": "stream",
          "text": [
            "Index([                                         [],\n",
            "                                ['1 January 2016'],\n",
            "                                       ['10 year'],\n",
            "                              ['11 years', '1978'],\n",
            "                                         ['16128'],\n",
            "                               ['1992', 'year 12'],\n",
            "                                 ['20 yearonyear'],\n",
            "                                          ['2004'],\n",
            "                              ['2005', 'annually'],\n",
            "                                          ['2007'],\n",
            "                       ['2007', '2007-12', '2009'],\n",
            "                                          ['2009'],\n",
            "                                          ['2010'],\n",
            "                                          ['2013'],\n",
            "                                        ['201314'],\n",
            "                                          ['2014'],\n",
            "                 ['2014', '2016', 'our base year'],\n",
            "                                      ['20142020'],\n",
            "                                          ['2015'],\n",
            "                          ['2015', '2016', '2007'],\n",
            "                                  ['2015', '2030'],\n",
            "                                          ['2016'],\n",
            "                                          ['2017'],\n",
            "                                        ['201718'],\n",
            "                                          ['2018'],\n",
            "                                          ['2019'],\n",
            "                         ['2019', '2018', '06891'],\n",
            "                       ['2019 93', '2018', '2019'],\n",
            "                                          ['2020'],\n",
            "                                  ['2020', '2013'],\n",
            "                                  ['2020', '2016'],\n",
            "                                  ['2020', '2019'],\n",
            "                                ['2020', 'annual'],\n",
            "                    ['2020', 'the period of 2005'],\n",
            "                                          ['2021'],\n",
            "                                  ['2021', '2015'],\n",
            "                          ['2021', '2015', '2018'],\n",
            "                        ['2021', 'the end of the'],\n",
            "                                     ['2021-2025'],\n",
            "                                          ['2025'],\n",
            "                                          ['2030'],\n",
            "                                          ['2050'],\n",
            "                               ['2050', 'October'],\n",
            "                                          ['2221'],\n",
            "                                  ['3050', '2025'],\n",
            "                           ['31 December 2015 71'],\n",
            "                      ['31 December 2020', '2017'],\n",
            "                                       ['40 2017'],\n",
            "                              ['46', '47', '2019'],\n",
            "                                    ['April 2019'],\n",
            "                                 ['February 2016'],\n",
            "                                ['January 1 2020'],\n",
            "                                     ['June 2018'],\n",
            "                                    ['March 2018'],\n",
            "                                ['September 2020'],\n",
            "                                     ['This year'],\n",
            "                                         ['Today'],\n",
            "                                        ['a year'],\n",
            "                                        ['annual'],\n",
            "                           ['annual', 'multiyear'],\n",
            "                                      ['annually'],\n",
            "                         ['between 2009 and 2020'],\n",
            "                         ['between 2013 and 2015'],\n",
            "       ['between December 2013 and December 2017'],\n",
            "                                         ['daily'],\n",
            "                                     ['each year'],\n",
            "                                   ['fiscal 2013'],\n",
            "                 ['fiscal 2019', '128873', '2019'],\n",
            "                                   ['fiscal 2030'],\n",
            "                                    ['five years'],\n",
            "                                    ['many years'],\n",
            "                         ['quarterly', 'annually'],\n",
            "                                  ['recent years'],\n",
            "                         ['the beginning of 2015'],\n",
            "                          ['the coming two years'],\n",
            "                              ['the coming years'],\n",
            "                       ['the end of 2015', '2010'],\n",
            "                       ['the end of 2015', '2014'],\n",
            "                           ['the end of the year'],\n",
            "                           ['the eve of the 21st'],\n",
            "                   ['the first quarter this year'],\n",
            "                     ['the middle of the century'],\n",
            "                       ['the next decade', '2030'],\n",
            "                           ['the next five years'],\n",
            "                            ['the past 18 months'],\n",
            "                           ['the past five years'],\n",
            "                             ['the previous year'],\n",
            "                                      ['the year'],\n",
            "                             ['the year', 'daily'],\n",
            "                                     ['the years'],\n",
            "                                     ['this year'],\n",
            "                                         ['today'],\n",
            "                    ['today', 'the past 10 years'],\n",
            "                                      ['tomorrow']],\n",
            "      dtype='object')\n"
          ]
        },
        {
          "name": "stderr",
          "output_type": "stream",
          "text": [
            "C:\\Users\\Charlotte Ahrens\\AppData\\Local\\Temp\\ipykernel_19292\\857368648.py:15: SettingWithCopyWarning: \n",
            "A value is trying to be set on a copy of a slice from a DataFrame.\n",
            "Try using .loc[row_indexer,col_indexer] = value instead\n",
            "\n",
            "See the caveats in the documentation: https://pandas.pydata.org/pandas-docs/stable/user_guide/indexing.html#returning-a-view-versus-a-copy\n",
            "  df_train_env[\"year\"] = year\n"
          ]
        }
      ],
      "source": [
        "#check statements based on year-> did the count increase? This is difficult to show since the \n",
        "year = []\n",
        "for text in df_train_env[\"text\"]:\n",
        "    #remove punctuation\n",
        "    text = text.translate(str.maketrans(\"\",\"\", string.punctuation))\n",
        "    #change accented characters like é -> e\n",
        "    text = unidecode.unidecode(text)\n",
        "    doc = sp(text)\n",
        "    years = [ent.text for ent in doc.ents if ent.label_ == \"DATE\"]\n",
        "    #remove duplicates and empty strings\n",
        "    years = list(set([year.strip() for year in years if year.strip()]))\n",
        "    year.append(years)\n",
        "    \n",
        "df_train_env.copy()\n",
        "df_train_env[\"year\"] = year\n",
        "df_train_env\n",
        "year_counts = df_train_env[\"year\"].value_counts()\n",
        "print(year_counts.index.sort_values(ascending=True))"
      ]
    },
    {
      "cell_type": "code",
      "execution_count": 17,
      "metadata": {},
      "outputs": [
        {
          "data": {
            "image/png": "[encoded data removed]",
            "text/plain": [
              "<Figure size 1000x600 with 1 Axes>"
            ]
          },
          "metadata": {},
          "output_type": "display_data"
        }
      ],
      "source": [
        "import re\n",
        "\n",
        "year_indexes = df_train_env[\"year\"].dropna().index\n",
        "\n",
        "# Extracting years starting from 1900and removing months and days\n",
        "years = [re.findall(r\"\\b(?:19|20|21)\\d{2}\\b\", str(year)) for year in df_train_env.loc[year_indexes, \"year\"]]\n",
        "filtered_years = [year[0] if year else \"\" for year in years]  # Keep the first year only as otherwise we cannot interpret the year\n",
        "\n",
        "# Assigning the filtered years back to the DataFrame\n",
        "df_train_env.loc[year_indexes, \"year\"] = filtered_years\n",
        "filtered_years\n",
        "\n",
        "# Counting the occurrences of each year\n",
        "year_counts = pd.Series(filtered_years).value_counts().sort_index()\n",
        "\n",
        "# Filtering years starting from 1900\n",
        "filtered_year_counts = year_counts[year_counts.index >= \"1900\"]\n",
        "\n",
        "# Plotting the line graph\n",
        "plt.figure(figsize=(10, 6))\n",
        "plt.plot(filtered_year_counts.index, filtered_year_counts.values, marker='o')\n",
        "plt.xlabel(\"Year\")\n",
        "plt.ylabel(\"Count\")\n",
        "plt.title(\"Count of environmental claims that state the given year\")\n",
        "plt.xticks(rotation=45)\n",
        "plt.grid(True)\n",
        "plt.show()\n",
        "\n"
      ]
    },
    {
      "attachments": {},
      "cell_type": "markdown",
      "metadata": {},
      "source": [
        "**The key takeaways of the Exploratory Data Analysis (EDA) are the following:**\n",
        "- the training and test set is quite unbalanced in terms of labelled=0 and labelled=1 data.\n",
        "- unlabelled data, meaning not categorized as an environmental claim doesn't mean it doesn't talk about environmental topics. \n",
        "- The most common words within the training set are as expected articles like (\"the\", \"a\"), prepositions (\"to\",\"of\",\"in\"), and various forms of the verbs (\"to be\",\" to have\"). It will be important to give those words less importance for example through the TF-IDF model. The most important word that gives a hint about the context is \"energy\", on rank 18th with a count of 290 words across all claims.\n",
        "\n",
        "- When selecting the claims that are coming from a specific company, we have four main observations:\n",
        "\n",
        "    1. within the 2400 claims the sample shows multiple claims from one company.\n",
        "    2. The company is not determining if a claim is labels as environmental or not since we find both labels within claims of the same company.\n",
        "    3. We only have the company's name for a minority of the claims. \n",
        "    4. Considering only environmental claims, we have multiple claims and the company name information only for EDF, an Energy firm in the UK, as well as for Tokio Marine Group, a multinational insurance holding company, based in Tokyo, Japan.\n",
        "- When selecting the claims that are specifying a given year, the main observations are: \n",
        "    1. 2015, 2019 and 2020 show a relative peak in environmental claims. 2015 is likely to be due to teh year of the Paris Agreement, meaning several claims where either made in that time or refer to that year within their statement. In terms of the rise in the year 2019 and 2020, it is likely to be mentioned more often due to the time period when the dataset was fed with claims.\n",
        "    2. Years that lay in the future are likely to come from claims that state information about future targets.\n",
        "    3. Due to the high amount of missing years for environmental claims, the line graph gives just an idea of behavior, but no concrete information."
      ]
    }
  ],
  "metadata": {
    "accelerator": "GPU",
    "colab": {
      "gpuType": "T4",
      "provenance": [],
      "toc_visible": true
    },
    "gpuClass": "standard",
    "kernelspec": {
      "display_name": "Python 3",
      "name": "python3"
    },
    "language_info": {
      "codemirror_mode": {
        "name": "ipython",
        "version": 3
      },
      "file_extension": ".py",
      "mimetype": "text/x-python",
      "name": "python",
      "nbconvert_exporter": "python",
      "pygments_lexer": "ipython3",
      "version": "3.9.16"
    },
    "widgets": {
      "application/vnd.jupyter.widget-state+json": {
        "07b8f4812a1c43fd96023ac7890ca13f": {
          "model_module": "@jupyter-widgets/controls",
          "model_module_version": "1.5.0",
          "model_name": "VBoxModel",
          "state": {
            "_dom_classes": [
              "widget-interact"
            ],
            "_model_module": "@jupyter-widgets/controls",
            "_model_module_version": "1.5.0",
            "_model_name": "VBoxModel",
            "_view_count": null,
            "_view_module": "@jupyter-widgets/controls",
            "_view_module_version": "1.5.0",
            "_view_name": "VBoxView",
            "box_style": "",
            "children": [
              "IPY_MODEL_130a5b1a9d8643789a5fe706de0bd568",
              "IPY_MODEL_24763b4111ff44d499a333a89dffccf3"
            ],
            "layout": "IPY_MODEL_39ca346a0c5143c1ba1ac1e4f6c14587"
          }
        },
        "07e35a8fd2644887baf629507a13bb72": {
          "model_module": "@jupyter-widgets/controls",
          "model_module_version": "1.5.0",
          "model_name": "DropdownModel",
          "state": {
            "_dom_classes": [],
            "_model_module": "@jupyter-widgets/controls",
            "_model_module_version": "1.5.0",
            "_model_name": "DropdownModel",
            "_options_labels": [
              "Logistic Regression",
              "KNN",
              "Decision Tree",
              "Random Forest"
            ],
            "_view_count": null,
            "_view_module": "@jupyter-widgets/controls",
            "_view_module_version": "1.5.0",
            "_view_name": "DropdownView",
            "description": "classifier",
            "description_tooltip": null,
            "disabled": false,
            "index": 0,
            "layout": "IPY_MODEL_b74e2432c4774d5d998b861914cbcd4f",
            "style": "IPY_MODEL_996031c55b1e406696f20352cbbe327c"
          }
        },
        "0f9be93391f14d58bf40d6a8b6c2be35": {
          "model_module": "@jupyter-widgets/base",
          "model_module_version": "1.2.0",
          "model_name": "LayoutModel",
          "state": {
            "_model_module": "@jupyter-widgets/base",
            "_model_module_version": "1.2.0",
            "_model_name": "LayoutModel",
            "_view_count": null,
            "_view_module": "@jupyter-widgets/base",
            "_view_module_version": "1.2.0",
            "_view_name": "LayoutView",
            "align_content": null,
            "align_items": null,
            "align_self": null,
            "border": null,
            "bottom": null,
            "display": null,
            "flex": null,
            "flex_flow": null,
            "grid_area": null,
            "grid_auto_columns": null,
            "grid_auto_flow": null,
            "grid_auto_rows": null,
            "grid_column": null,
            "grid_gap": null,
            "grid_row": null,
            "grid_template_areas": null,
            "grid_template_columns": null,
            "grid_template_rows": null,
            "height": null,
            "justify_content": null,
            "justify_items": null,
            "left": null,
            "margin": null,
            "max_height": null,
            "max_width": null,
            "min_height": null,
            "min_width": null,
            "object_fit": null,
            "object_position": null,
            "order": null,
            "overflow": null,
            "overflow_x": null,
            "overflow_y": null,
            "padding": null,
            "right": null,
            "top": null,
            "visibility": null,
            "width": null
          }
        },
        "130a5b1a9d8643789a5fe706de0bd568": {
          "model_module": "@jupyter-widgets/controls",
          "model_module_version": "1.5.0",
          "model_name": "DropdownModel",
          "state": {
            "_dom_classes": [],
            "_model_module": "@jupyter-widgets/controls",
            "_model_module_version": "1.5.0",
            "_model_name": "DropdownModel",
            "_options_labels": [
              "Logistic Regression",
              "KNN",
              "Decision Tree",
              "Random Forest"
            ],
            "_view_count": null,
            "_view_module": "@jupyter-widgets/controls",
            "_view_module_version": "1.5.0",
            "_view_name": "DropdownView",
            "description": "classifier",
            "description_tooltip": null,
            "disabled": false,
            "index": 0,
            "layout": "IPY_MODEL_f83daf85a16544aaac7a510680a1f849",
            "style": "IPY_MODEL_4e065256028b46818482d9bf25e3b0f1"
          }
        },
        "24763b4111ff44d499a333a89dffccf3": {
          "model_module": "@jupyter-widgets/output",
          "model_module_version": "1.0.0",
          "model_name": "OutputModel",
          "state": {
            "_dom_classes": [],
            "_model_module": "@jupyter-widgets/output",
            "_model_module_version": "1.0.0",
            "_model_name": "OutputModel",
            "_view_count": null,
            "_view_module": "@jupyter-widgets/output",
            "_view_module_version": "1.0.0",
            "_view_name": "OutputView",
            "layout": "IPY_MODEL_58395b28485340ad9f6e1428aeda2381",
            "msg_id": "",
            "outputs": [
              {
                "name": "stderr",
                "output_type": "stream",
                "text": [
                  "<ipython-input-21-20ec121d96c5>:29: VisibleDeprecationWarning: Creating an ndarray from ragged nested sequences (which is a list-or-tuple of lists-or-tuples-or ndarrays with different lengths or shapes) is deprecated. If you meant to do this, you must specify 'dtype=object' when creating the ndarray.\n",
                  "  X_train_vect = np.array([np.array([w2v_model.wv[i] for i in ls if i in words])\n",
                  "<ipython-input-21-20ec121d96c5>:31: VisibleDeprecationWarning: Creating an ndarray from ragged nested sequences (which is a list-or-tuple of lists-or-tuples-or ndarrays with different lengths or shapes) is deprecated. If you meant to do this, you must specify 'dtype=object' when creating the ndarray.\n",
                  "  X_test_vect = np.array([np.array([w2v_model.wv[i] for i in ls if i in words])\n"
                ]
              },
              {
                "name": "stdout",
                "output_type": "stream",
                "text": [
                  " \n",
                  "The accuracy using Word2Vec and Logistic Regression as a classifier is: 79.00%\n"
                ]
              },
              {
                "data": {
                  "image/png": "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\n",
                  "text/plain": "<Figure size 800x700 with 2 Axes>"
                },
                "metadata": {},
                "output_type": "display_data"
              }
            ]
          }
        },
        "2feaf89dba594746ba9eb76b631cb277": {
          "model_module": "@jupyter-widgets/base",
          "model_module_version": "1.2.0",
          "model_name": "LayoutModel",
          "state": {
            "_model_module": "@jupyter-widgets/base",
            "_model_module_version": "1.2.0",
            "_model_name": "LayoutModel",
            "_view_count": null,
            "_view_module": "@jupyter-widgets/base",
            "_view_module_version": "1.2.0",
            "_view_name": "LayoutView",
            "align_content": null,
            "align_items": null,
            "align_self": null,
            "border": null,
            "bottom": null,
            "display": null,
            "flex": null,
            "flex_flow": null,
            "grid_area": null,
            "grid_auto_columns": null,
            "grid_auto_flow": null,
            "grid_auto_rows": null,
            "grid_column": null,
            "grid_gap": null,
            "grid_row": null,
            "grid_template_areas": null,
            "grid_template_columns": null,
            "grid_template_rows": null,
            "height": null,
            "justify_content": null,
            "justify_items": null,
            "left": null,
            "margin": null,
            "max_height": null,
            "max_width": null,
            "min_height": null,
            "min_width": null,
            "object_fit": null,
            "object_position": null,
            "order": null,
            "overflow": null,
            "overflow_x": null,
            "overflow_y": null,
            "padding": null,
            "right": null,
            "top": null,
            "visibility": null,
            "width": null
          }
        },
        "39ca346a0c5143c1ba1ac1e4f6c14587": {
          "model_module": "@jupyter-widgets/base",
          "model_module_version": "1.2.0",
          "model_name": "LayoutModel",
          "state": {
            "_model_module": "@jupyter-widgets/base",
            "_model_module_version": "1.2.0",
            "_model_name": "LayoutModel",
            "_view_count": null,
            "_view_module": "@jupyter-widgets/base",
            "_view_module_version": "1.2.0",
            "_view_name": "LayoutView",
            "align_content": null,
            "align_items": null,
            "align_self": null,
            "border": null,
            "bottom": null,
            "display": null,
            "flex": null,
            "flex_flow": null,
            "grid_area": null,
            "grid_auto_columns": null,
            "grid_auto_flow": null,
            "grid_auto_rows": null,
            "grid_column": null,
            "grid_gap": null,
            "grid_row": null,
            "grid_template_areas": null,
            "grid_template_columns": null,
            "grid_template_rows": null,
            "height": null,
            "justify_content": null,
            "justify_items": null,
            "left": null,
            "margin": null,
            "max_height": null,
            "max_width": null,
            "min_height": null,
            "min_width": null,
            "object_fit": null,
            "object_position": null,
            "order": null,
            "overflow": null,
            "overflow_x": null,
            "overflow_y": null,
            "padding": null,
            "right": null,
            "top": null,
            "visibility": null,
            "width": null
          }
        },
        "3a86a8828b354fa8b0f8575b6b46354f": {
          "model_module": "@jupyter-widgets/base",
          "model_module_version": "1.2.0",
          "model_name": "LayoutModel",
          "state": {
            "_model_module": "@jupyter-widgets/base",
            "_model_module_version": "1.2.0",
            "_model_name": "LayoutModel",
            "_view_count": null,
            "_view_module": "@jupyter-widgets/base",
            "_view_module_version": "1.2.0",
            "_view_name": "LayoutView",
            "align_content": null,
            "align_items": null,
            "align_self": null,
            "border": null,
            "bottom": null,
            "display": null,
            "flex": null,
            "flex_flow": null,
            "grid_area": null,
            "grid_auto_columns": null,
            "grid_auto_flow": null,
            "grid_auto_rows": null,
            "grid_column": null,
            "grid_gap": null,
            "grid_row": null,
            "grid_template_areas": null,
            "grid_template_columns": null,
            "grid_template_rows": null,
            "height": null,
            "justify_content": null,
            "justify_items": null,
            "left": null,
            "margin": null,
            "max_height": null,
            "max_width": null,
            "min_height": null,
            "min_width": null,
            "object_fit": null,
            "object_position": null,
            "order": null,
            "overflow": null,
            "overflow_x": null,
            "overflow_y": null,
            "padding": null,
            "right": null,
            "top": null,
            "visibility": null,
            "width": null
          }
        },
        "3f290019401d4a15b9a5038739a67515": {
          "model_module": "@jupyter-widgets/controls",
          "model_module_version": "1.5.0",
          "model_name": "DropdownModel",
          "state": {
            "_dom_classes": [],
            "_model_module": "@jupyter-widgets/controls",
            "_model_module_version": "1.5.0",
            "_model_name": "DropdownModel",
            "_options_labels": [
              "BOW",
              "TF-IDF"
            ],
            "_view_count": null,
            "_view_module": "@jupyter-widgets/controls",
            "_view_module_version": "1.5.0",
            "_view_name": "DropdownView",
            "description": "vectorizer_name",
            "description_tooltip": null,
            "disabled": false,
            "index": 0,
            "layout": "IPY_MODEL_a6c037d5a49d42389accd2b1ad5c7543",
            "style": "IPY_MODEL_5cb7a5d3bad94ccbb0f6f610d44f848e"
          }
        },
        "4e065256028b46818482d9bf25e3b0f1": {
          "model_module": "@jupyter-widgets/controls",
          "model_module_version": "1.5.0",
          "model_name": "DescriptionStyleModel",
          "state": {
            "_model_module": "@jupyter-widgets/controls",
            "_model_module_version": "1.5.0",
            "_model_name": "DescriptionStyleModel",
            "_view_count": null,
            "_view_module": "@jupyter-widgets/base",
            "_view_module_version": "1.2.0",
            "_view_name": "StyleView",
            "description_width": ""
          }
        },
        "58395b28485340ad9f6e1428aeda2381": {
          "model_module": "@jupyter-widgets/base",
          "model_module_version": "1.2.0",
          "model_name": "LayoutModel",
          "state": {
            "_model_module": "@jupyter-widgets/base",
            "_model_module_version": "1.2.0",
            "_model_name": "LayoutModel",
            "_view_count": null,
            "_view_module": "@jupyter-widgets/base",
            "_view_module_version": "1.2.0",
            "_view_name": "LayoutView",
            "align_content": null,
            "align_items": null,
            "align_self": null,
            "border": null,
            "bottom": null,
            "display": null,
            "flex": null,
            "flex_flow": null,
            "grid_area": null,
            "grid_auto_columns": null,
            "grid_auto_flow": null,
            "grid_auto_rows": null,
            "grid_column": null,
            "grid_gap": null,
            "grid_row": null,
            "grid_template_areas": null,
            "grid_template_columns": null,
            "grid_template_rows": null,
            "height": null,
            "justify_content": null,
            "justify_items": null,
            "left": null,
            "margin": null,
            "max_height": null,
            "max_width": null,
            "min_height": null,
            "min_width": null,
            "object_fit": null,
            "object_position": null,
            "order": null,
            "overflow": null,
            "overflow_x": null,
            "overflow_y": null,
            "padding": null,
            "right": null,
            "top": null,
            "visibility": null,
            "width": null
          }
        },
        "5cb7a5d3bad94ccbb0f6f610d44f848e": {
          "model_module": "@jupyter-widgets/controls",
          "model_module_version": "1.5.0",
          "model_name": "DescriptionStyleModel",
          "state": {
            "_model_module": "@jupyter-widgets/controls",
            "_model_module_version": "1.5.0",
            "_model_name": "DescriptionStyleModel",
            "_view_count": null,
            "_view_module": "@jupyter-widgets/base",
            "_view_module_version": "1.2.0",
            "_view_name": "StyleView",
            "description_width": ""
          }
        },
        "6244358a1d004898b91c46252c7fa3ef": {
          "model_module": "@jupyter-widgets/controls",
          "model_module_version": "1.5.0",
          "model_name": "DescriptionStyleModel",
          "state": {
            "_model_module": "@jupyter-widgets/controls",
            "_model_module_version": "1.5.0",
            "_model_name": "DescriptionStyleModel",
            "_view_count": null,
            "_view_module": "@jupyter-widgets/base",
            "_view_module_version": "1.2.0",
            "_view_name": "StyleView",
            "description_width": ""
          }
        },
        "6dd7bd551d984590b3fe3c99c3e7f973": {
          "model_module": "@jupyter-widgets/controls",
          "model_module_version": "1.5.0",
          "model_name": "VBoxModel",
          "state": {
            "_dom_classes": [
              "widget-interact"
            ],
            "_model_module": "@jupyter-widgets/controls",
            "_model_module_version": "1.5.0",
            "_model_name": "VBoxModel",
            "_view_count": null,
            "_view_module": "@jupyter-widgets/controls",
            "_view_module_version": "1.5.0",
            "_view_name": "VBoxView",
            "box_style": "",
            "children": [
              "IPY_MODEL_b2625e9f2a184098a0199d7a83e90db8",
              "IPY_MODEL_3f290019401d4a15b9a5038739a67515",
              "IPY_MODEL_c4e2e403b26149379524d8f91366a7cc"
            ],
            "layout": "IPY_MODEL_b797f8b3077c4fe5ad8bc387cab25bc6"
          }
        },
        "996031c55b1e406696f20352cbbe327c": {
          "model_module": "@jupyter-widgets/controls",
          "model_module_version": "1.5.0",
          "model_name": "DescriptionStyleModel",
          "state": {
            "_model_module": "@jupyter-widgets/controls",
            "_model_module_version": "1.5.0",
            "_model_name": "DescriptionStyleModel",
            "_view_count": null,
            "_view_module": "@jupyter-widgets/base",
            "_view_module_version": "1.2.0",
            "_view_name": "StyleView",
            "description_width": ""
          }
        },
        "a14b1e6ac4fb44f8a747ab3a075e82c5": {
          "model_module": "@jupyter-widgets/base",
          "model_module_version": "1.2.0",
          "model_name": "LayoutModel",
          "state": {
            "_model_module": "@jupyter-widgets/base",
            "_model_module_version": "1.2.0",
            "_model_name": "LayoutModel",
            "_view_count": null,
            "_view_module": "@jupyter-widgets/base",
            "_view_module_version": "1.2.0",
            "_view_name": "LayoutView",
            "align_content": null,
            "align_items": null,
            "align_self": null,
            "border": null,
            "bottom": null,
            "display": null,
            "flex": null,
            "flex_flow": null,
            "grid_area": null,
            "grid_auto_columns": null,
            "grid_auto_flow": null,
            "grid_auto_rows": null,
            "grid_column": null,
            "grid_gap": null,
            "grid_row": null,
            "grid_template_areas": null,
            "grid_template_columns": null,
            "grid_template_rows": null,
            "height": null,
            "justify_content": null,
            "justify_items": null,
            "left": null,
            "margin": null,
            "max_height": null,
            "max_width": null,
            "min_height": null,
            "min_width": null,
            "object_fit": null,
            "object_position": null,
            "order": null,
            "overflow": null,
            "overflow_x": null,
            "overflow_y": null,
            "padding": null,
            "right": null,
            "top": null,
            "visibility": null,
            "width": null
          }
        },
        "a6c037d5a49d42389accd2b1ad5c7543": {
          "model_module": "@jupyter-widgets/base",
          "model_module_version": "1.2.0",
          "model_name": "LayoutModel",
          "state": {
            "_model_module": "@jupyter-widgets/base",
            "_model_module_version": "1.2.0",
            "_model_name": "LayoutModel",
            "_view_count": null,
            "_view_module": "@jupyter-widgets/base",
            "_view_module_version": "1.2.0",
            "_view_name": "LayoutView",
            "align_content": null,
            "align_items": null,
            "align_self": null,
            "border": null,
            "bottom": null,
            "display": null,
            "flex": null,
            "flex_flow": null,
            "grid_area": null,
            "grid_auto_columns": null,
            "grid_auto_flow": null,
            "grid_auto_rows": null,
            "grid_column": null,
            "grid_gap": null,
            "grid_row": null,
            "grid_template_areas": null,
            "grid_template_columns": null,
            "grid_template_rows": null,
            "height": null,
            "justify_content": null,
            "justify_items": null,
            "left": null,
            "margin": null,
            "max_height": null,
            "max_width": null,
            "min_height": null,
            "min_width": null,
            "object_fit": null,
            "object_position": null,
            "order": null,
            "overflow": null,
            "overflow_x": null,
            "overflow_y": null,
            "padding": null,
            "right": null,
            "top": null,
            "visibility": null,
            "width": null
          }
        },
        "b2625e9f2a184098a0199d7a83e90db8": {
          "model_module": "@jupyter-widgets/controls",
          "model_module_version": "1.5.0",
          "model_name": "DropdownModel",
          "state": {
            "_dom_classes": [],
            "_model_module": "@jupyter-widgets/controls",
            "_model_module_version": "1.5.0",
            "_model_name": "DropdownModel",
            "_options_labels": [
              "Logistic Regression",
              "KNN",
              "Decision Tree",
              "Random Forest"
            ],
            "_view_count": null,
            "_view_module": "@jupyter-widgets/controls",
            "_view_module_version": "1.5.0",
            "_view_name": "DropdownView",
            "description": "model_name",
            "description_tooltip": null,
            "disabled": false,
            "index": 0,
            "layout": "IPY_MODEL_3a86a8828b354fa8b0f8575b6b46354f",
            "style": "IPY_MODEL_6244358a1d004898b91c46252c7fa3ef"
          }
        },
        "b721a99b43ad4dc78572f33684f444d4": {
          "model_module": "@jupyter-widgets/controls",
          "model_module_version": "1.5.0",
          "model_name": "VBoxModel",
          "state": {
            "_dom_classes": [
              "widget-interact"
            ],
            "_model_module": "@jupyter-widgets/controls",
            "_model_module_version": "1.5.0",
            "_model_name": "VBoxModel",
            "_view_count": null,
            "_view_module": "@jupyter-widgets/controls",
            "_view_module_version": "1.5.0",
            "_view_name": "VBoxView",
            "box_style": "",
            "children": [
              "IPY_MODEL_07e35a8fd2644887baf629507a13bb72",
              "IPY_MODEL_e004131772b741d9ab0d34bb75f90bfe"
            ],
            "layout": "IPY_MODEL_a14b1e6ac4fb44f8a747ab3a075e82c5"
          }
        },
        "b74e2432c4774d5d998b861914cbcd4f": {
          "model_module": "@jupyter-widgets/base",
          "model_module_version": "1.2.0",
          "model_name": "LayoutModel",
          "state": {
            "_model_module": "@jupyter-widgets/base",
            "_model_module_version": "1.2.0",
            "_model_name": "LayoutModel",
            "_view_count": null,
            "_view_module": "@jupyter-widgets/base",
            "_view_module_version": "1.2.0",
            "_view_name": "LayoutView",
            "align_content": null,
            "align_items": null,
            "align_self": null,
            "border": null,
            "bottom": null,
            "display": null,
            "flex": null,
            "flex_flow": null,
            "grid_area": null,
            "grid_auto_columns": null,
            "grid_auto_flow": null,
            "grid_auto_rows": null,
            "grid_column": null,
            "grid_gap": null,
            "grid_row": null,
            "grid_template_areas": null,
            "grid_template_columns": null,
            "grid_template_rows": null,
            "height": null,
            "justify_content": null,
            "justify_items": null,
            "left": null,
            "margin": null,
            "max_height": null,
            "max_width": null,
            "min_height": null,
            "min_width": null,
            "object_fit": null,
            "object_position": null,
            "order": null,
            "overflow": null,
            "overflow_x": null,
            "overflow_y": null,
            "padding": null,
            "right": null,
            "top": null,
            "visibility": null,
            "width": null
          }
        },
        "b797f8b3077c4fe5ad8bc387cab25bc6": {
          "model_module": "@jupyter-widgets/base",
          "model_module_version": "1.2.0",
          "model_name": "LayoutModel",
          "state": {
            "_model_module": "@jupyter-widgets/base",
            "_model_module_version": "1.2.0",
            "_model_name": "LayoutModel",
            "_view_count": null,
            "_view_module": "@jupyter-widgets/base",
            "_view_module_version": "1.2.0",
            "_view_name": "LayoutView",
            "align_content": null,
            "align_items": null,
            "align_self": null,
            "border": null,
            "bottom": null,
            "display": null,
            "flex": null,
            "flex_flow": null,
            "grid_area": null,
            "grid_auto_columns": null,
            "grid_auto_flow": null,
            "grid_auto_rows": null,
            "grid_column": null,
            "grid_gap": null,
            "grid_row": null,
            "grid_template_areas": null,
            "grid_template_columns": null,
            "grid_template_rows": null,
            "height": null,
            "justify_content": null,
            "justify_items": null,
            "left": null,
            "margin": null,
            "max_height": null,
            "max_width": null,
            "min_height": null,
            "min_width": null,
            "object_fit": null,
            "object_position": null,
            "order": null,
            "overflow": null,
            "overflow_x": null,
            "overflow_y": null,
            "padding": null,
            "right": null,
            "top": null,
            "visibility": null,
            "width": null
          }
        },
        "c4e2e403b26149379524d8f91366a7cc": {
          "model_module": "@jupyter-widgets/output",
          "model_module_version": "1.0.0",
          "model_name": "OutputModel",
          "state": {
            "_dom_classes": [],
            "_model_module": "@jupyter-widgets/output",
            "_model_module_version": "1.0.0",
            "_model_name": "OutputModel",
            "_view_count": null,
            "_view_module": "@jupyter-widgets/output",
            "_view_module_version": "1.0.0",
            "_view_name": "OutputView",
            "layout": "IPY_MODEL_0f9be93391f14d58bf40d6a8b6c2be35",
            "msg_id": "",
            "outputs": [
              {
                "name": "stderr",
                "output_type": "stream",
                "text": [
                  "/usr/local/lib/python3.10/dist-packages/sklearn/feature_extraction/text.py:528: UserWarning: The parameter 'token_pattern' will not be used since 'tokenizer' is not None'\n",
                  "  warnings.warn(\n"
                ]
              },
              {
                "name": "stdout",
                "output_type": "stream",
                "text": [
                  "The accuracy is: 80.67%\n"
                ]
              },
              {
                "data": {
                  "image/png": "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\n",
                  "text/plain": "<Figure size 800x700 with 2 Axes>"
                },
                "metadata": {},
                "output_type": "display_data"
              }
            ]
          }
        },
        "e004131772b741d9ab0d34bb75f90bfe": {
          "model_module": "@jupyter-widgets/output",
          "model_module_version": "1.0.0",
          "model_name": "OutputModel",
          "state": {
            "_dom_classes": [],
            "_model_module": "@jupyter-widgets/output",
            "_model_module_version": "1.0.0",
            "_model_name": "OutputModel",
            "_view_count": null,
            "_view_module": "@jupyter-widgets/output",
            "_view_module_version": "1.0.0",
            "_view_name": "OutputView",
            "layout": "IPY_MODEL_2feaf89dba594746ba9eb76b631cb277",
            "msg_id": "",
            "outputs": [
              {
                "name": "stderr",
                "output_type": "stream",
                "text": [
                  "WARNING:gensim.models.keyedvectors:sorting after vectors have been allocated is expensive & error-prone\n"
                ]
              },
              {
                "name": "stderr",
                "output_type": "stream",
                "text": [
                  "WARNING:gensim.models.word2vec:EPOCH 0: supplied example count (2400) did not equal expected count (300)\n"
                ]
              },
              {
                "name": "stderr",
                "output_type": "stream",
                "text": [
                  "WARNING:gensim.models.word2vec:EPOCH 1: supplied example count (2400) did not equal expected count (300)\n"
                ]
              },
              {
                "name": "stderr",
                "output_type": "stream",
                "text": [
                  "WARNING:gensim.models.word2vec:EPOCH 2: supplied example count (2400) did not equal expected count (300)\n"
                ]
              },
              {
                "name": "stderr",
                "output_type": "stream",
                "text": [
                  "WARNING:gensim.models.word2vec:EPOCH 3: supplied example count (2400) did not equal expected count (300)\n"
                ]
              },
              {
                "name": "stderr",
                "output_type": "stream",
                "text": [
                  "WARNING:gensim.models.word2vec:EPOCH 4: supplied example count (2400) did not equal expected count (300)\n"
                ]
              },
              {
                "name": "stderr",
                "output_type": "stream",
                "text": [
                  "WARNING:gensim.models.word2vec:EPOCH 5: supplied example count (2400) did not equal expected count (300)\n"
                ]
              },
              {
                "name": "stderr",
                "output_type": "stream",
                "text": [
                  "WARNING:gensim.models.word2vec:EPOCH 6: supplied example count (2400) did not equal expected count (300)\n"
                ]
              },
              {
                "name": "stderr",
                "output_type": "stream",
                "text": [
                  "WARNING:gensim.models.word2vec:EPOCH 7: supplied example count (2400) did not equal expected count (300)\n"
                ]
              },
              {
                "name": "stderr",
                "output_type": "stream",
                "text": [
                  "WARNING:gensim.models.word2vec:EPOCH 8: supplied example count (2400) did not equal expected count (300)\n"
                ]
              },
              {
                "name": "stderr",
                "output_type": "stream",
                "text": [
                  "WARNING:gensim.models.word2vec:EPOCH 9: supplied example count (2400) did not equal expected count (300)\n"
                ]
              },
              {
                "name": "stderr",
                "output_type": "stream",
                "text": [
                  "WARNING:gensim.models.word2vec:EPOCH 10: supplied example count (2400) did not equal expected count (300)\n"
                ]
              },
              {
                "name": "stderr",
                "output_type": "stream",
                "text": [
                  "WARNING:gensim.models.word2vec:EPOCH 11: supplied example count (2400) did not equal expected count (300)\n"
                ]
              },
              {
                "name": "stderr",
                "output_type": "stream",
                "text": [
                  "WARNING:gensim.models.word2vec:EPOCH 12: supplied example count (2400) did not equal expected count (300)\n"
                ]
              },
              {
                "name": "stderr",
                "output_type": "stream",
                "text": [
                  "WARNING:gensim.models.word2vec:EPOCH 13: supplied example count (2400) did not equal expected count (300)\n"
                ]
              },
              {
                "name": "stderr",
                "output_type": "stream",
                "text": [
                  "WARNING:gensim.models.word2vec:EPOCH 14: supplied example count (2400) did not equal expected count (300)\n"
                ]
              },
              {
                "name": "stderr",
                "output_type": "stream",
                "text": [
                  "WARNING:gensim.models.word2vec:EPOCH 15: supplied example count (2400) did not equal expected count (300)\n"
                ]
              },
              {
                "name": "stderr",
                "output_type": "stream",
                "text": [
                  "WARNING:gensim.models.word2vec:EPOCH 16: supplied example count (2400) did not equal expected count (300)\n"
                ]
              },
              {
                "name": "stderr",
                "output_type": "stream",
                "text": [
                  "WARNING:gensim.models.word2vec:EPOCH 17: supplied example count (2400) did not equal expected count (300)\n"
                ]
              },
              {
                "name": "stderr",
                "output_type": "stream",
                "text": [
                  "WARNING:gensim.models.word2vec:EPOCH 18: supplied example count (2400) did not equal expected count (300)\n"
                ]
              },
              {
                "name": "stderr",
                "output_type": "stream",
                "text": [
                  "WARNING:gensim.models.word2vec:EPOCH 19: supplied example count (2400) did not equal expected count (300)\n"
                ]
              },
              {
                "name": "stderr",
                "output_type": "stream",
                "text": [
                  "WARNING:gensim.models.word2vec:EPOCH 20: supplied example count (2400) did not equal expected count (300)\n"
                ]
              },
              {
                "name": "stderr",
                "output_type": "stream",
                "text": [
                  "WARNING:gensim.models.word2vec:EPOCH 21: supplied example count (2400) did not equal expected count (300)\n"
                ]
              },
              {
                "name": "stderr",
                "output_type": "stream",
                "text": [
                  "WARNING:gensim.models.word2vec:EPOCH 22: supplied example count (2400) did not equal expected count (300)\n"
                ]
              },
              {
                "name": "stderr",
                "output_type": "stream",
                "text": [
                  "WARNING:gensim.models.word2vec:EPOCH 23: supplied example count (2400) did not equal expected count (300)\n"
                ]
              },
              {
                "name": "stderr",
                "output_type": "stream",
                "text": [
                  "WARNING:gensim.models.word2vec:EPOCH 24: supplied example count (2400) did not equal expected count (300)\n"
                ]
              },
              {
                "name": "stderr",
                "output_type": "stream",
                "text": [
                  "WARNING:gensim.models.word2vec:EPOCH 25: supplied example count (2400) did not equal expected count (300)\n"
                ]
              },
              {
                "name": "stderr",
                "output_type": "stream",
                "text": [
                  "WARNING:gensim.models.word2vec:EPOCH 26: supplied example count (2400) did not equal expected count (300)\n"
                ]
              },
              {
                "name": "stderr",
                "output_type": "stream",
                "text": [
                  "WARNING:gensim.models.word2vec:EPOCH 27: supplied example count (2400) did not equal expected count (300)\n"
                ]
              },
              {
                "name": "stderr",
                "output_type": "stream",
                "text": [
                  "WARNING:gensim.models.word2vec:EPOCH 28: supplied example count (2400) did not equal expected count (300)\n"
                ]
              },
              {
                "name": "stderr",
                "output_type": "stream",
                "text": [
                  "WARNING:gensim.models.word2vec:EPOCH 29: supplied example count (2400) did not equal expected count (300)\n"
                ]
              },
              {
                "name": "stderr",
                "output_type": "stream",
                "text": [
                  "WARNING:gensim.models.word2vec:EPOCH 30: supplied example count (2400) did not equal expected count (300)\n"
                ]
              },
              {
                "name": "stderr",
                "output_type": "stream",
                "text": [
                  "WARNING:gensim.models.word2vec:EPOCH 31: supplied example count (2400) did not equal expected count (300)\n"
                ]
              },
              {
                "name": "stderr",
                "output_type": "stream",
                "text": [
                  "WARNING:gensim.models.word2vec:EPOCH 32: supplied example count (2400) did not equal expected count (300)\n"
                ]
              },
              {
                "name": "stderr",
                "output_type": "stream",
                "text": [
                  "WARNING:gensim.models.word2vec:EPOCH 33: supplied example count (2400) did not equal expected count (300)\n"
                ]
              },
              {
                "name": "stderr",
                "output_type": "stream",
                "text": [
                  "WARNING:gensim.models.word2vec:EPOCH 34: supplied example count (2400) did not equal expected count (300)\n"
                ]
              },
              {
                "name": "stderr",
                "output_type": "stream",
                "text": [
                  "WARNING:gensim.models.word2vec:EPOCH 35: supplied example count (2400) did not equal expected count (300)\n"
                ]
              },
              {
                "name": "stderr",
                "output_type": "stream",
                "text": [
                  "WARNING:gensim.models.word2vec:EPOCH 36: supplied example count (2400) did not equal expected count (300)\n"
                ]
              },
              {
                "name": "stderr",
                "output_type": "stream",
                "text": [
                  "WARNING:gensim.models.word2vec:EPOCH 37: supplied example count (2400) did not equal expected count (300)\n"
                ]
              },
              {
                "name": "stderr",
                "output_type": "stream",
                "text": [
                  "WARNING:gensim.models.word2vec:EPOCH 38: supplied example count (2400) did not equal expected count (300)\n"
                ]
              },
              {
                "name": "stderr",
                "output_type": "stream",
                "text": [
                  "WARNING:gensim.models.word2vec:EPOCH 39: supplied example count (2400) did not equal expected count (300)\n"
                ]
              },
              {
                "name": "stderr",
                "output_type": "stream",
                "text": [
                  "WARNING:gensim.models.word2vec:EPOCH 40: supplied example count (2400) did not equal expected count (300)\n"
                ]
              },
              {
                "name": "stderr",
                "output_type": "stream",
                "text": [
                  "WARNING:gensim.models.word2vec:EPOCH 41: supplied example count (2400) did not equal expected count (300)\n"
                ]
              },
              {
                "name": "stderr",
                "output_type": "stream",
                "text": [
                  "WARNING:gensim.models.word2vec:EPOCH 42: supplied example count (2400) did not equal expected count (300)\n"
                ]
              },
              {
                "name": "stderr",
                "output_type": "stream",
                "text": [
                  "WARNING:gensim.models.word2vec:EPOCH 43: supplied example count (2400) did not equal expected count (300)\n"
                ]
              },
              {
                "name": "stderr",
                "output_type": "stream",
                "text": [
                  "WARNING:gensim.models.word2vec:EPOCH 44: supplied example count (2400) did not equal expected count (300)\n"
                ]
              },
              {
                "name": "stderr",
                "output_type": "stream",
                "text": [
                  "WARNING:gensim.models.word2vec:EPOCH 45: supplied example count (2400) did not equal expected count (300)\n"
                ]
              },
              {
                "name": "stderr",
                "output_type": "stream",
                "text": [
                  "WARNING:gensim.models.word2vec:EPOCH 46: supplied example count (2400) did not equal expected count (300)\n"
                ]
              },
              {
                "name": "stderr",
                "output_type": "stream",
                "text": [
                  "WARNING:gensim.models.word2vec:EPOCH 47: supplied example count (2400) did not equal expected count (300)\n"
                ]
              },
              {
                "name": "stderr",
                "output_type": "stream",
                "text": [
                  "WARNING:gensim.models.word2vec:EPOCH 48: supplied example count (2400) did not equal expected count (300)\n"
                ]
              },
              {
                "name": "stderr",
                "output_type": "stream",
                "text": [
                  "WARNING:gensim.models.word2vec:EPOCH 49: supplied example count (2400) did not equal expected count (300)\n"
                ]
              },
              {
                "name": "stderr",
                "output_type": "stream",
                "text": [
                  "WARNING:gensim.models.word2vec:EPOCH 50: supplied example count (2400) did not equal expected count (300)\n"
                ]
              },
              {
                "name": "stderr",
                "output_type": "stream",
                "text": [
                  "WARNING:gensim.models.word2vec:EPOCH 51: supplied example count (2400) did not equal expected count (300)\n"
                ]
              },
              {
                "name": "stderr",
                "output_type": "stream",
                "text": [
                  "WARNING:gensim.models.word2vec:EPOCH 52: supplied example count (2400) did not equal expected count (300)\n"
                ]
              },
              {
                "name": "stderr",
                "output_type": "stream",
                "text": [
                  "WARNING:gensim.models.word2vec:EPOCH 53: supplied example count (2400) did not equal expected count (300)\n"
                ]
              },
              {
                "name": "stderr",
                "output_type": "stream",
                "text": [
                  "WARNING:gensim.models.word2vec:EPOCH 54: supplied example count (2400) did not equal expected count (300)\n"
                ]
              },
              {
                "name": "stderr",
                "output_type": "stream",
                "text": [
                  "WARNING:gensim.models.word2vec:EPOCH 55: supplied example count (2400) did not equal expected count (300)\n"
                ]
              },
              {
                "name": "stderr",
                "output_type": "stream",
                "text": [
                  "WARNING:gensim.models.word2vec:EPOCH 56: supplied example count (2400) did not equal expected count (300)\n"
                ]
              },
              {
                "name": "stderr",
                "output_type": "stream",
                "text": [
                  "WARNING:gensim.models.word2vec:EPOCH 57: supplied example count (2400) did not equal expected count (300)\n"
                ]
              },
              {
                "name": "stderr",
                "output_type": "stream",
                "text": [
                  "WARNING:gensim.models.word2vec:EPOCH 58: supplied example count (2400) did not equal expected count (300)\n"
                ]
              },
              {
                "name": "stderr",
                "output_type": "stream",
                "text": [
                  "WARNING:gensim.models.word2vec:EPOCH 59: supplied example count (2400) did not equal expected count (300)\n"
                ]
              },
              {
                "name": "stderr",
                "output_type": "stream",
                "text": [
                  "WARNING:gensim.models.word2vec:EPOCH 60: supplied example count (2400) did not equal expected count (300)\n"
                ]
              },
              {
                "name": "stderr",
                "output_type": "stream",
                "text": [
                  "WARNING:gensim.models.word2vec:EPOCH 61: supplied example count (2400) did not equal expected count (300)\n"
                ]
              },
              {
                "name": "stderr",
                "output_type": "stream",
                "text": [
                  "WARNING:gensim.models.word2vec:EPOCH 62: supplied example count (2400) did not equal expected count (300)\n"
                ]
              },
              {
                "name": "stderr",
                "output_type": "stream",
                "text": [
                  "WARNING:gensim.models.word2vec:EPOCH 63: supplied example count (2400) did not equal expected count (300)\n"
                ]
              },
              {
                "name": "stderr",
                "output_type": "stream",
                "text": [
                  "WARNING:gensim.models.word2vec:EPOCH 64: supplied example count (2400) did not equal expected count (300)\n"
                ]
              },
              {
                "name": "stderr",
                "output_type": "stream",
                "text": [
                  "WARNING:gensim.models.word2vec:EPOCH 65: supplied example count (2400) did not equal expected count (300)\n"
                ]
              },
              {
                "name": "stderr",
                "output_type": "stream",
                "text": [
                  "WARNING:gensim.models.word2vec:EPOCH 66: supplied example count (2400) did not equal expected count (300)\n"
                ]
              },
              {
                "name": "stderr",
                "output_type": "stream",
                "text": [
                  "WARNING:gensim.models.word2vec:EPOCH 67: supplied example count (2400) did not equal expected count (300)\n"
                ]
              },
              {
                "name": "stderr",
                "output_type": "stream",
                "text": [
                  "WARNING:gensim.models.word2vec:EPOCH 68: supplied example count (2400) did not equal expected count (300)\n"
                ]
              },
              {
                "name": "stderr",
                "output_type": "stream",
                "text": [
                  "WARNING:gensim.models.word2vec:EPOCH 69: supplied example count (2400) did not equal expected count (300)\n"
                ]
              },
              {
                "name": "stderr",
                "output_type": "stream",
                "text": [
                  "WARNING:gensim.models.word2vec:EPOCH 70: supplied example count (2400) did not equal expected count (300)\n"
                ]
              },
              {
                "name": "stderr",
                "output_type": "stream",
                "text": [
                  "WARNING:gensim.models.word2vec:EPOCH 71: supplied example count (2400) did not equal expected count (300)\n"
                ]
              },
              {
                "name": "stderr",
                "output_type": "stream",
                "text": [
                  "WARNING:gensim.models.word2vec:EPOCH 72: supplied example count (2400) did not equal expected count (300)\n"
                ]
              },
              {
                "name": "stderr",
                "output_type": "stream",
                "text": [
                  "WARNING:gensim.models.word2vec:EPOCH 73: supplied example count (2400) did not equal expected count (300)\n"
                ]
              },
              {
                "name": "stderr",
                "output_type": "stream",
                "text": [
                  "WARNING:gensim.models.word2vec:EPOCH 74: supplied example count (2400) did not equal expected count (300)\n"
                ]
              },
              {
                "name": "stderr",
                "output_type": "stream",
                "text": [
                  "WARNING:gensim.models.word2vec:EPOCH 75: supplied example count (2400) did not equal expected count (300)\n"
                ]
              },
              {
                "name": "stderr",
                "output_type": "stream",
                "text": [
                  "WARNING:gensim.models.word2vec:EPOCH 76: supplied example count (2400) did not equal expected count (300)\n"
                ]
              },
              {
                "name": "stderr",
                "output_type": "stream",
                "text": [
                  "WARNING:gensim.models.word2vec:EPOCH 77: supplied example count (2400) did not equal expected count (300)\n"
                ]
              },
              {
                "name": "stderr",
                "output_type": "stream",
                "text": [
                  "WARNING:gensim.models.word2vec:EPOCH 78: supplied example count (2400) did not equal expected count (300)\n"
                ]
              },
              {
                "name": "stderr",
                "output_type": "stream",
                "text": [
                  "WARNING:gensim.models.word2vec:EPOCH 79: supplied example count (2400) did not equal expected count (300)\n"
                ]
              },
              {
                "name": "stderr",
                "output_type": "stream",
                "text": [
                  "WARNING:gensim.models.word2vec:EPOCH 80: supplied example count (2400) did not equal expected count (300)\n"
                ]
              },
              {
                "name": "stderr",
                "output_type": "stream",
                "text": [
                  "WARNING:gensim.models.word2vec:EPOCH 81: supplied example count (2400) did not equal expected count (300)\n"
                ]
              },
              {
                "name": "stderr",
                "output_type": "stream",
                "text": [
                  "WARNING:gensim.models.word2vec:EPOCH 82: supplied example count (2400) did not equal expected count (300)\n"
                ]
              },
              {
                "name": "stderr",
                "output_type": "stream",
                "text": [
                  "WARNING:gensim.models.word2vec:EPOCH 83: supplied example count (2400) did not equal expected count (300)\n"
                ]
              },
              {
                "name": "stderr",
                "output_type": "stream",
                "text": [
                  "WARNING:gensim.models.word2vec:EPOCH 84: supplied example count (2400) did not equal expected count (300)\n"
                ]
              },
              {
                "name": "stderr",
                "output_type": "stream",
                "text": [
                  "WARNING:gensim.models.word2vec:EPOCH 85: supplied example count (2400) did not equal expected count (300)\n"
                ]
              },
              {
                "name": "stderr",
                "output_type": "stream",
                "text": [
                  "WARNING:gensim.models.word2vec:EPOCH 86: supplied example count (2400) did not equal expected count (300)\n"
                ]
              },
              {
                "name": "stderr",
                "output_type": "stream",
                "text": [
                  "WARNING:gensim.models.word2vec:EPOCH 87: supplied example count (2400) did not equal expected count (300)\n"
                ]
              },
              {
                "name": "stderr",
                "output_type": "stream",
                "text": [
                  "WARNING:gensim.models.word2vec:EPOCH 88: supplied example count (2400) did not equal expected count (300)\n"
                ]
              },
              {
                "name": "stderr",
                "output_type": "stream",
                "text": [
                  "WARNING:gensim.models.word2vec:EPOCH 89: supplied example count (2400) did not equal expected count (300)\n"
                ]
              },
              {
                "name": "stderr",
                "output_type": "stream",
                "text": [
                  "WARNING:gensim.models.word2vec:EPOCH 90: supplied example count (2400) did not equal expected count (300)\n"
                ]
              },
              {
                "name": "stderr",
                "output_type": "stream",
                "text": [
                  "WARNING:gensim.models.word2vec:EPOCH 91: supplied example count (2400) did not equal expected count (300)\n"
                ]
              },
              {
                "name": "stderr",
                "output_type": "stream",
                "text": [
                  "WARNING:gensim.models.word2vec:EPOCH 92: supplied example count (2400) did not equal expected count (300)\n"
                ]
              },
              {
                "name": "stderr",
                "output_type": "stream",
                "text": [
                  "WARNING:gensim.models.word2vec:EPOCH 93: supplied example count (2400) did not equal expected count (300)\n"
                ]
              },
              {
                "name": "stderr",
                "output_type": "stream",
                "text": [
                  "WARNING:gensim.models.word2vec:EPOCH 94: supplied example count (2400) did not equal expected count (300)\n"
                ]
              },
              {
                "name": "stderr",
                "output_type": "stream",
                "text": [
                  "WARNING:gensim.models.word2vec:EPOCH 95: supplied example count (2400) did not equal expected count (300)\n"
                ]
              },
              {
                "name": "stderr",
                "output_type": "stream",
                "text": [
                  "WARNING:gensim.models.word2vec:EPOCH 96: supplied example count (2400) did not equal expected count (300)\n"
                ]
              },
              {
                "name": "stderr",
                "output_type": "stream",
                "text": [
                  "WARNING:gensim.models.word2vec:EPOCH 97: supplied example count (2400) did not equal expected count (300)\n"
                ]
              },
              {
                "name": "stderr",
                "output_type": "stream",
                "text": [
                  "WARNING:gensim.models.word2vec:EPOCH 98: supplied example count (2400) did not equal expected count (300)\n"
                ]
              },
              {
                "name": "stderr",
                "output_type": "stream",
                "text": [
                  "WARNING:gensim.models.word2vec:EPOCH 99: supplied example count (2400) did not equal expected count (300)\n"
                ]
              },
              {
                "name": "stderr",
                "output_type": "stream",
                "text": [
                  "WARNING:gensim.models.word2vec:EPOCH 100: supplied example count (2400) did not equal expected count (300)\n"
                ]
              },
              {
                "name": "stderr",
                "output_type": "stream",
                "text": [
                  "WARNING:gensim.models.word2vec:EPOCH 101: supplied example count (2400) did not equal expected count (300)\n"
                ]
              },
              {
                "name": "stderr",
                "output_type": "stream",
                "text": [
                  "WARNING:gensim.models.word2vec:EPOCH 102: supplied example count (2400) did not equal expected count (300)\n"
                ]
              },
              {
                "name": "stderr",
                "output_type": "stream",
                "text": [
                  "WARNING:gensim.models.word2vec:EPOCH 103: supplied example count (2400) did not equal expected count (300)\n"
                ]
              },
              {
                "name": "stderr",
                "output_type": "stream",
                "text": [
                  "WARNING:gensim.models.word2vec:EPOCH 104: supplied example count (2400) did not equal expected count (300)\n"
                ]
              },
              {
                "name": "stderr",
                "output_type": "stream",
                "text": [
                  "WARNING:gensim.models.word2vec:EPOCH 105: supplied example count (2400) did not equal expected count (300)\n"
                ]
              },
              {
                "name": "stderr",
                "output_type": "stream",
                "text": [
                  "WARNING:gensim.models.word2vec:EPOCH 106: supplied example count (2400) did not equal expected count (300)\n"
                ]
              },
              {
                "name": "stderr",
                "output_type": "stream",
                "text": [
                  "WARNING:gensim.models.word2vec:EPOCH 107: supplied example count (2400) did not equal expected count (300)\n"
                ]
              },
              {
                "name": "stderr",
                "output_type": "stream",
                "text": [
                  "WARNING:gensim.models.word2vec:EPOCH 108: supplied example count (2400) did not equal expected count (300)\n"
                ]
              },
              {
                "name": "stderr",
                "output_type": "stream",
                "text": [
                  "WARNING:gensim.models.word2vec:EPOCH 109: supplied example count (2400) did not equal expected count (300)\n"
                ]
              },
              {
                "name": "stderr",
                "output_type": "stream",
                "text": [
                  "WARNING:gensim.models.word2vec:EPOCH 110: supplied example count (2400) did not equal expected count (300)\n"
                ]
              },
              {
                "name": "stderr",
                "output_type": "stream",
                "text": [
                  "WARNING:gensim.models.word2vec:EPOCH 111: supplied example count (2400) did not equal expected count (300)\n"
                ]
              },
              {
                "name": "stderr",
                "output_type": "stream",
                "text": [
                  "WARNING:gensim.models.word2vec:EPOCH 112: supplied example count (2400) did not equal expected count (300)\n"
                ]
              },
              {
                "name": "stderr",
                "output_type": "stream",
                "text": [
                  "WARNING:gensim.models.word2vec:EPOCH 113: supplied example count (2400) did not equal expected count (300)\n"
                ]
              },
              {
                "name": "stderr",
                "output_type": "stream",
                "text": [
                  "WARNING:gensim.models.word2vec:EPOCH 114: supplied example count (2400) did not equal expected count (300)\n"
                ]
              },
              {
                "name": "stderr",
                "output_type": "stream",
                "text": [
                  "WARNING:gensim.models.word2vec:EPOCH 115: supplied example count (2400) did not equal expected count (300)\n"
                ]
              },
              {
                "name": "stderr",
                "output_type": "stream",
                "text": [
                  "WARNING:gensim.models.word2vec:EPOCH 116: supplied example count (2400) did not equal expected count (300)\n"
                ]
              },
              {
                "name": "stderr",
                "output_type": "stream",
                "text": [
                  "WARNING:gensim.models.word2vec:EPOCH 117: supplied example count (2400) did not equal expected count (300)\n"
                ]
              },
              {
                "name": "stderr",
                "output_type": "stream",
                "text": [
                  "WARNING:gensim.models.word2vec:EPOCH 118: supplied example count (2400) did not equal expected count (300)\n"
                ]
              },
              {
                "name": "stderr",
                "output_type": "stream",
                "text": [
                  "WARNING:gensim.models.word2vec:EPOCH 119: supplied example count (2400) did not equal expected count (300)\n"
                ]
              },
              {
                "name": "stderr",
                "output_type": "stream",
                "text": [
                  "WARNING:gensim.models.word2vec:EPOCH 120: supplied example count (2400) did not equal expected count (300)\n"
                ]
              },
              {
                "name": "stderr",
                "output_type": "stream",
                "text": [
                  "WARNING:gensim.models.word2vec:EPOCH 121: supplied example count (2400) did not equal expected count (300)\n"
                ]
              },
              {
                "name": "stderr",
                "output_type": "stream",
                "text": [
                  "WARNING:gensim.models.word2vec:EPOCH 122: supplied example count (2400) did not equal expected count (300)\n"
                ]
              },
              {
                "name": "stderr",
                "output_type": "stream",
                "text": [
                  "WARNING:gensim.models.word2vec:EPOCH 123: supplied example count (2400) did not equal expected count (300)\n"
                ]
              },
              {
                "name": "stderr",
                "output_type": "stream",
                "text": [
                  "WARNING:gensim.models.word2vec:EPOCH 124: supplied example count (2400) did not equal expected count (300)\n"
                ]
              },
              {
                "name": "stderr",
                "output_type": "stream",
                "text": [
                  "WARNING:gensim.models.word2vec:EPOCH 125: supplied example count (2400) did not equal expected count (300)\n"
                ]
              },
              {
                "name": "stderr",
                "output_type": "stream",
                "text": [
                  "WARNING:gensim.models.word2vec:EPOCH 126: supplied example count (2400) did not equal expected count (300)\n"
                ]
              },
              {
                "name": "stderr",
                "output_type": "stream",
                "text": [
                  "WARNING:gensim.models.word2vec:EPOCH 127: supplied example count (2400) did not equal expected count (300)\n"
                ]
              },
              {
                "name": "stderr",
                "output_type": "stream",
                "text": [
                  "WARNING:gensim.models.word2vec:EPOCH 128: supplied example count (2400) did not equal expected count (300)\n"
                ]
              },
              {
                "name": "stderr",
                "output_type": "stream",
                "text": [
                  "WARNING:gensim.models.word2vec:EPOCH 129: supplied example count (2400) did not equal expected count (300)\n"
                ]
              },
              {
                "name": "stderr",
                "output_type": "stream",
                "text": [
                  "WARNING:gensim.models.word2vec:EPOCH 130: supplied example count (2400) did not equal expected count (300)\n"
                ]
              },
              {
                "name": "stderr",
                "output_type": "stream",
                "text": [
                  "WARNING:gensim.models.word2vec:EPOCH 131: supplied example count (2400) did not equal expected count (300)\n"
                ]
              },
              {
                "name": "stderr",
                "output_type": "stream",
                "text": [
                  "WARNING:gensim.models.word2vec:EPOCH 132: supplied example count (2400) did not equal expected count (300)\n"
                ]
              },
              {
                "name": "stderr",
                "output_type": "stream",
                "text": [
                  "WARNING:gensim.models.word2vec:EPOCH 133: supplied example count (2400) did not equal expected count (300)\n"
                ]
              },
              {
                "name": "stderr",
                "output_type": "stream",
                "text": [
                  "WARNING:gensim.models.word2vec:EPOCH 134: supplied example count (2400) did not equal expected count (300)\n"
                ]
              },
              {
                "name": "stderr",
                "output_type": "stream",
                "text": [
                  "WARNING:gensim.models.word2vec:EPOCH 135: supplied example count (2400) did not equal expected count (300)\n"
                ]
              },
              {
                "name": "stderr",
                "output_type": "stream",
                "text": [
                  "WARNING:gensim.models.word2vec:EPOCH 136: supplied example count (2400) did not equal expected count (300)\n"
                ]
              },
              {
                "name": "stderr",
                "output_type": "stream",
                "text": [
                  "WARNING:gensim.models.word2vec:EPOCH 137: supplied example count (2400) did not equal expected count (300)\n"
                ]
              },
              {
                "name": "stderr",
                "output_type": "stream",
                "text": [
                  "WARNING:gensim.models.word2vec:EPOCH 138: supplied example count (2400) did not equal expected count (300)\n"
                ]
              },
              {
                "name": "stderr",
                "output_type": "stream",
                "text": [
                  "WARNING:gensim.models.word2vec:EPOCH 139: supplied example count (2400) did not equal expected count (300)\n"
                ]
              },
              {
                "name": "stderr",
                "output_type": "stream",
                "text": [
                  "WARNING:gensim.models.word2vec:EPOCH 140: supplied example count (2400) did not equal expected count (300)\n"
                ]
              },
              {
                "name": "stderr",
                "output_type": "stream",
                "text": [
                  "WARNING:gensim.models.word2vec:EPOCH 141: supplied example count (2400) did not equal expected count (300)\n"
                ]
              },
              {
                "name": "stderr",
                "output_type": "stream",
                "text": [
                  "WARNING:gensim.models.word2vec:EPOCH 142: supplied example count (2400) did not equal expected count (300)\n"
                ]
              },
              {
                "name": "stderr",
                "output_type": "stream",
                "text": [
                  "WARNING:gensim.models.word2vec:EPOCH 143: supplied example count (2400) did not equal expected count (300)\n"
                ]
              },
              {
                "name": "stderr",
                "output_type": "stream",
                "text": [
                  "WARNING:gensim.models.word2vec:EPOCH 144: supplied example count (2400) did not equal expected count (300)\n"
                ]
              },
              {
                "name": "stderr",
                "output_type": "stream",
                "text": [
                  "WARNING:gensim.models.word2vec:EPOCH 145: supplied example count (2400) did not equal expected count (300)\n"
                ]
              },
              {
                "name": "stderr",
                "output_type": "stream",
                "text": [
                  "WARNING:gensim.models.word2vec:EPOCH 146: supplied example count (2400) did not equal expected count (300)\n"
                ]
              },
              {
                "name": "stderr",
                "output_type": "stream",
                "text": [
                  "WARNING:gensim.models.word2vec:EPOCH 147: supplied example count (2400) did not equal expected count (300)\n"
                ]
              },
              {
                "name": "stderr",
                "output_type": "stream",
                "text": [
                  "WARNING:gensim.models.word2vec:EPOCH 148: supplied example count (2400) did not equal expected count (300)\n"
                ]
              },
              {
                "name": "stderr",
                "output_type": "stream",
                "text": [
                  "WARNING:gensim.models.word2vec:EPOCH 149: supplied example count (2400) did not equal expected count (300)\n"
                ]
              },
              {
                "name": "stderr",
                "output_type": "stream",
                "text": [
                  "WARNING:gensim.models.word2vec:EPOCH 150: supplied example count (2400) did not equal expected count (300)\n"
                ]
              },
              {
                "name": "stderr",
                "output_type": "stream",
                "text": [
                  "WARNING:gensim.models.word2vec:EPOCH 151: supplied example count (2400) did not equal expected count (300)\n"
                ]
              },
              {
                "name": "stderr",
                "output_type": "stream",
                "text": [
                  "WARNING:gensim.models.word2vec:EPOCH 152: supplied example count (2400) did not equal expected count (300)\n"
                ]
              },
              {
                "name": "stderr",
                "output_type": "stream",
                "text": [
                  "WARNING:gensim.models.word2vec:EPOCH 153: supplied example count (2400) did not equal expected count (300)\n"
                ]
              },
              {
                "name": "stderr",
                "output_type": "stream",
                "text": [
                  "WARNING:gensim.models.word2vec:EPOCH 154: supplied example count (2400) did not equal expected count (300)\n"
                ]
              },
              {
                "name": "stderr",
                "output_type": "stream",
                "text": [
                  "WARNING:gensim.models.word2vec:EPOCH 155: supplied example count (2400) did not equal expected count (300)\n"
                ]
              },
              {
                "name": "stderr",
                "output_type": "stream",
                "text": [
                  "WARNING:gensim.models.word2vec:EPOCH 156: supplied example count (2400) did not equal expected count (300)\n"
                ]
              },
              {
                "name": "stderr",
                "output_type": "stream",
                "text": [
                  "WARNING:gensim.models.word2vec:EPOCH 157: supplied example count (2400) did not equal expected count (300)\n"
                ]
              },
              {
                "name": "stderr",
                "output_type": "stream",
                "text": [
                  "WARNING:gensim.models.word2vec:EPOCH 158: supplied example count (2400) did not equal expected count (300)\n"
                ]
              },
              {
                "name": "stderr",
                "output_type": "stream",
                "text": [
                  "WARNING:gensim.models.word2vec:EPOCH 159: supplied example count (2400) did not equal expected count (300)\n"
                ]
              },
              {
                "name": "stderr",
                "output_type": "stream",
                "text": [
                  "WARNING:gensim.models.word2vec:EPOCH 160: supplied example count (2400) did not equal expected count (300)\n"
                ]
              },
              {
                "name": "stderr",
                "output_type": "stream",
                "text": [
                  "WARNING:gensim.models.word2vec:EPOCH 161: supplied example count (2400) did not equal expected count (300)\n"
                ]
              },
              {
                "name": "stderr",
                "output_type": "stream",
                "text": [
                  "WARNING:gensim.models.word2vec:EPOCH 162: supplied example count (2400) did not equal expected count (300)\n"
                ]
              },
              {
                "name": "stderr",
                "output_type": "stream",
                "text": [
                  "WARNING:gensim.models.word2vec:EPOCH 163: supplied example count (2400) did not equal expected count (300)\n"
                ]
              },
              {
                "name": "stderr",
                "output_type": "stream",
                "text": [
                  "WARNING:gensim.models.word2vec:EPOCH 164: supplied example count (2400) did not equal expected count (300)\n"
                ]
              },
              {
                "name": "stderr",
                "output_type": "stream",
                "text": [
                  "WARNING:gensim.models.word2vec:EPOCH 165: supplied example count (2400) did not equal expected count (300)\n"
                ]
              },
              {
                "name": "stderr",
                "output_type": "stream",
                "text": [
                  "WARNING:gensim.models.word2vec:EPOCH 166: supplied example count (2400) did not equal expected count (300)\n"
                ]
              },
              {
                "name": "stderr",
                "output_type": "stream",
                "text": [
                  "WARNING:gensim.models.word2vec:EPOCH 167: supplied example count (2400) did not equal expected count (300)\n"
                ]
              },
              {
                "name": "stderr",
                "output_type": "stream",
                "text": [
                  "WARNING:gensim.models.word2vec:EPOCH 168: supplied example count (2400) did not equal expected count (300)\n"
                ]
              },
              {
                "name": "stderr",
                "output_type": "stream",
                "text": [
                  "WARNING:gensim.models.word2vec:EPOCH 169: supplied example count (2400) did not equal expected count (300)\n"
                ]
              },
              {
                "name": "stderr",
                "output_type": "stream",
                "text": [
                  "WARNING:gensim.models.word2vec:EPOCH 170: supplied example count (2400) did not equal expected count (300)\n"
                ]
              },
              {
                "name": "stderr",
                "output_type": "stream",
                "text": [
                  "WARNING:gensim.models.word2vec:EPOCH 171: supplied example count (2400) did not equal expected count (300)\n"
                ]
              },
              {
                "name": "stderr",
                "output_type": "stream",
                "text": [
                  "WARNING:gensim.models.word2vec:EPOCH 172: supplied example count (2400) did not equal expected count (300)\n"
                ]
              },
              {
                "name": "stderr",
                "output_type": "stream",
                "text": [
                  "WARNING:gensim.models.word2vec:EPOCH 173: supplied example count (2400) did not equal expected count (300)\n"
                ]
              },
              {
                "name": "stderr",
                "output_type": "stream",
                "text": [
                  "WARNING:gensim.models.word2vec:EPOCH 174: supplied example count (2400) did not equal expected count (300)\n"
                ]
              },
              {
                "name": "stderr",
                "output_type": "stream",
                "text": [
                  "WARNING:gensim.models.word2vec:EPOCH 175: supplied example count (2400) did not equal expected count (300)\n"
                ]
              },
              {
                "name": "stderr",
                "output_type": "stream",
                "text": [
                  "WARNING:gensim.models.word2vec:EPOCH 176: supplied example count (2400) did not equal expected count (300)\n"
                ]
              },
              {
                "name": "stderr",
                "output_type": "stream",
                "text": [
                  "WARNING:gensim.models.word2vec:EPOCH 177: supplied example count (2400) did not equal expected count (300)\n"
                ]
              },
              {
                "name": "stderr",
                "output_type": "stream",
                "text": [
                  "WARNING:gensim.models.word2vec:EPOCH 178: supplied example count (2400) did not equal expected count (300)\n"
                ]
              },
              {
                "name": "stderr",
                "output_type": "stream",
                "text": [
                  "WARNING:gensim.models.word2vec:EPOCH 179: supplied example count (2400) did not equal expected count (300)\n"
                ]
              },
              {
                "name": "stderr",
                "output_type": "stream",
                "text": [
                  "WARNING:gensim.models.word2vec:EPOCH 180: supplied example count (2400) did not equal expected count (300)\n"
                ]
              },
              {
                "name": "stderr",
                "output_type": "stream",
                "text": [
                  "WARNING:gensim.models.word2vec:EPOCH 181: supplied example count (2400) did not equal expected count (300)\n"
                ]
              },
              {
                "name": "stderr",
                "output_type": "stream",
                "text": [
                  "WARNING:gensim.models.word2vec:EPOCH 182: supplied example count (2400) did not equal expected count (300)\n"
                ]
              },
              {
                "name": "stderr",
                "output_type": "stream",
                "text": [
                  "WARNING:gensim.models.word2vec:EPOCH 183: supplied example count (2400) did not equal expected count (300)\n"
                ]
              },
              {
                "name": "stderr",
                "output_type": "stream",
                "text": [
                  "WARNING:gensim.models.word2vec:EPOCH 184: supplied example count (2400) did not equal expected count (300)\n"
                ]
              },
              {
                "name": "stderr",
                "output_type": "stream",
                "text": [
                  "WARNING:gensim.models.word2vec:EPOCH 185: supplied example count (2400) did not equal expected count (300)\n"
                ]
              },
              {
                "name": "stderr",
                "output_type": "stream",
                "text": [
                  "WARNING:gensim.models.word2vec:EPOCH 186: supplied example count (2400) did not equal expected count (300)\n"
                ]
              },
              {
                "name": "stderr",
                "output_type": "stream",
                "text": [
                  "WARNING:gensim.models.word2vec:EPOCH 187: supplied example count (2400) did not equal expected count (300)\n"
                ]
              },
              {
                "name": "stderr",
                "output_type": "stream",
                "text": [
                  "WARNING:gensim.models.word2vec:EPOCH 188: supplied example count (2400) did not equal expected count (300)\n"
                ]
              },
              {
                "name": "stderr",
                "output_type": "stream",
                "text": [
                  "WARNING:gensim.models.word2vec:EPOCH 189: supplied example count (2400) did not equal expected count (300)\n"
                ]
              },
              {
                "name": "stderr",
                "output_type": "stream",
                "text": [
                  "WARNING:gensim.models.word2vec:EPOCH 190: supplied example count (2400) did not equal expected count (300)\n"
                ]
              },
              {
                "name": "stderr",
                "output_type": "stream",
                "text": [
                  "WARNING:gensim.models.word2vec:EPOCH 191: supplied example count (2400) did not equal expected count (300)\n"
                ]
              },
              {
                "name": "stderr",
                "output_type": "stream",
                "text": [
                  "WARNING:gensim.models.word2vec:EPOCH 192: supplied example count (2400) did not equal expected count (300)\n"
                ]
              },
              {
                "name": "stderr",
                "output_type": "stream",
                "text": [
                  "WARNING:gensim.models.word2vec:EPOCH 193: supplied example count (2400) did not equal expected count (300)\n"
                ]
              },
              {
                "name": "stderr",
                "output_type": "stream",
                "text": [
                  "WARNING:gensim.models.word2vec:EPOCH 194: supplied example count (2400) did not equal expected count (300)\n"
                ]
              },
              {
                "name": "stderr",
                "output_type": "stream",
                "text": [
                  "WARNING:gensim.models.word2vec:EPOCH 195: supplied example count (2400) did not equal expected count (300)\n"
                ]
              },
              {
                "name": "stderr",
                "output_type": "stream",
                "text": [
                  "WARNING:gensim.models.word2vec:EPOCH 196: supplied example count (2400) did not equal expected count (300)\n"
                ]
              },
              {
                "name": "stderr",
                "output_type": "stream",
                "text": [
                  "WARNING:gensim.models.word2vec:EPOCH 197: supplied example count (2400) did not equal expected count (300)\n"
                ]
              },
              {
                "name": "stderr",
                "output_type": "stream",
                "text": [
                  "WARNING:gensim.models.word2vec:EPOCH 198: supplied example count (2400) did not equal expected count (300)\n"
                ]
              },
              {
                "name": "stderr",
                "output_type": "stream",
                "text": [
                  "WARNING:gensim.models.word2vec:EPOCH 199: supplied example count (2400) did not equal expected count (300)\n"
                ]
              },
              {
                "name": "stderr",
                "output_type": "stream",
                "text": [
                  "WARNING:gensim.models.word2vec:EPOCH 200: supplied example count (2400) did not equal expected count (300)\n"
                ]
              },
              {
                "name": "stderr",
                "output_type": "stream",
                "text": [
                  "WARNING:gensim.models.word2vec:EPOCH 201: supplied example count (2400) did not equal expected count (300)\n"
                ]
              },
              {
                "name": "stderr",
                "output_type": "stream",
                "text": [
                  "WARNING:gensim.models.word2vec:EPOCH 202: supplied example count (2400) did not equal expected count (300)\n"
                ]
              },
              {
                "name": "stderr",
                "output_type": "stream",
                "text": [
                  "WARNING:gensim.models.word2vec:EPOCH 203: supplied example count (2400) did not equal expected count (300)\n"
                ]
              },
              {
                "name": "stderr",
                "output_type": "stream",
                "text": [
                  "WARNING:gensim.models.word2vec:EPOCH 204: supplied example count (2400) did not equal expected count (300)\n"
                ]
              },
              {
                "name": "stderr",
                "output_type": "stream",
                "text": [
                  "WARNING:gensim.models.word2vec:EPOCH 205: supplied example count (2400) did not equal expected count (300)\n"
                ]
              },
              {
                "name": "stderr",
                "output_type": "stream",
                "text": [
                  "WARNING:gensim.models.word2vec:EPOCH 206: supplied example count (2400) did not equal expected count (300)\n"
                ]
              },
              {
                "name": "stderr",
                "output_type": "stream",
                "text": [
                  "WARNING:gensim.models.word2vec:EPOCH 207: supplied example count (2400) did not equal expected count (300)\n"
                ]
              },
              {
                "name": "stderr",
                "output_type": "stream",
                "text": [
                  "WARNING:gensim.models.word2vec:EPOCH 208: supplied example count (2400) did not equal expected count (300)\n"
                ]
              },
              {
                "name": "stderr",
                "output_type": "stream",
                "text": [
                  "WARNING:gensim.models.word2vec:EPOCH 209: supplied example count (2400) did not equal expected count (300)\n"
                ]
              },
              {
                "name": "stderr",
                "output_type": "stream",
                "text": [
                  "WARNING:gensim.models.word2vec:EPOCH 210: supplied example count (2400) did not equal expected count (300)\n"
                ]
              },
              {
                "name": "stderr",
                "output_type": "stream",
                "text": [
                  "WARNING:gensim.models.word2vec:EPOCH 211: supplied example count (2400) did not equal expected count (300)\n"
                ]
              },
              {
                "name": "stderr",
                "output_type": "stream",
                "text": [
                  "WARNING:gensim.models.word2vec:EPOCH 212: supplied example count (2400) did not equal expected count (300)\n"
                ]
              },
              {
                "name": "stderr",
                "output_type": "stream",
                "text": [
                  "WARNING:gensim.models.word2vec:EPOCH 213: supplied example count (2400) did not equal expected count (300)\n"
                ]
              },
              {
                "name": "stderr",
                "output_type": "stream",
                "text": [
                  "WARNING:gensim.models.word2vec:EPOCH 214: supplied example count (2400) did not equal expected count (300)\n"
                ]
              },
              {
                "name": "stderr",
                "output_type": "stream",
                "text": [
                  "WARNING:gensim.models.word2vec:EPOCH 215: supplied example count (2400) did not equal expected count (300)\n"
                ]
              },
              {
                "name": "stderr",
                "output_type": "stream",
                "text": [
                  "WARNING:gensim.models.word2vec:EPOCH 216: supplied example count (2400) did not equal expected count (300)\n"
                ]
              },
              {
                "name": "stderr",
                "output_type": "stream",
                "text": [
                  "WARNING:gensim.models.word2vec:EPOCH 217: supplied example count (2400) did not equal expected count (300)\n"
                ]
              },
              {
                "name": "stderr",
                "output_type": "stream",
                "text": [
                  "WARNING:gensim.models.word2vec:EPOCH 218: supplied example count (2400) did not equal expected count (300)\n"
                ]
              },
              {
                "name": "stderr",
                "output_type": "stream",
                "text": [
                  "WARNING:gensim.models.word2vec:EPOCH 219: supplied example count (2400) did not equal expected count (300)\n"
                ]
              },
              {
                "name": "stderr",
                "output_type": "stream",
                "text": [
                  "WARNING:gensim.models.word2vec:EPOCH 220: supplied example count (2400) did not equal expected count (300)\n"
                ]
              },
              {
                "name": "stderr",
                "output_type": "stream",
                "text": [
                  "WARNING:gensim.models.word2vec:EPOCH 221: supplied example count (2400) did not equal expected count (300)\n"
                ]
              },
              {
                "name": "stderr",
                "output_type": "stream",
                "text": [
                  "WARNING:gensim.models.word2vec:EPOCH 222: supplied example count (2400) did not equal expected count (300)\n"
                ]
              },
              {
                "name": "stderr",
                "output_type": "stream",
                "text": [
                  "WARNING:gensim.models.word2vec:EPOCH 223: supplied example count (2400) did not equal expected count (300)\n"
                ]
              },
              {
                "name": "stderr",
                "output_type": "stream",
                "text": [
                  "WARNING:gensim.models.word2vec:EPOCH 224: supplied example count (2400) did not equal expected count (300)\n"
                ]
              },
              {
                "name": "stderr",
                "output_type": "stream",
                "text": [
                  "WARNING:gensim.models.word2vec:EPOCH 225: supplied example count (2400) did not equal expected count (300)\n"
                ]
              },
              {
                "name": "stderr",
                "output_type": "stream",
                "text": [
                  "WARNING:gensim.models.word2vec:EPOCH 226: supplied example count (2400) did not equal expected count (300)\n"
                ]
              },
              {
                "name": "stderr",
                "output_type": "stream",
                "text": [
                  "WARNING:gensim.models.word2vec:EPOCH 227: supplied example count (2400) did not equal expected count (300)\n"
                ]
              },
              {
                "name": "stderr",
                "output_type": "stream",
                "text": [
                  "WARNING:gensim.models.word2vec:EPOCH 228: supplied example count (2400) did not equal expected count (300)\n"
                ]
              },
              {
                "name": "stderr",
                "output_type": "stream",
                "text": [
                  "WARNING:gensim.models.word2vec:EPOCH 229: supplied example count (2400) did not equal expected count (300)\n"
                ]
              },
              {
                "name": "stderr",
                "output_type": "stream",
                "text": [
                  "WARNING:gensim.models.word2vec:EPOCH 230: supplied example count (2400) did not equal expected count (300)\n"
                ]
              },
              {
                "name": "stderr",
                "output_type": "stream",
                "text": [
                  "WARNING:gensim.models.word2vec:EPOCH 231: supplied example count (2400) did not equal expected count (300)\n"
                ]
              },
              {
                "name": "stderr",
                "output_type": "stream",
                "text": [
                  "WARNING:gensim.models.word2vec:EPOCH 232: supplied example count (2400) did not equal expected count (300)\n"
                ]
              },
              {
                "name": "stderr",
                "output_type": "stream",
                "text": [
                  "WARNING:gensim.models.word2vec:EPOCH 233: supplied example count (2400) did not equal expected count (300)\n"
                ]
              },
              {
                "name": "stderr",
                "output_type": "stream",
                "text": [
                  "WARNING:gensim.models.word2vec:EPOCH 234: supplied example count (2400) did not equal expected count (300)\n"
                ]
              },
              {
                "name": "stderr",
                "output_type": "stream",
                "text": [
                  "WARNING:gensim.models.word2vec:EPOCH 235: supplied example count (2400) did not equal expected count (300)\n"
                ]
              },
              {
                "name": "stderr",
                "output_type": "stream",
                "text": [
                  "WARNING:gensim.models.word2vec:EPOCH 236: supplied example count (2400) did not equal expected count (300)\n"
                ]
              },
              {
                "name": "stderr",
                "output_type": "stream",
                "text": [
                  "WARNING:gensim.models.word2vec:EPOCH 237: supplied example count (2400) did not equal expected count (300)\n"
                ]
              },
              {
                "name": "stderr",
                "output_type": "stream",
                "text": [
                  "WARNING:gensim.models.word2vec:EPOCH 238: supplied example count (2400) did not equal expected count (300)\n"
                ]
              },
              {
                "name": "stderr",
                "output_type": "stream",
                "text": [
                  "WARNING:gensim.models.word2vec:EPOCH 239: supplied example count (2400) did not equal expected count (300)\n"
                ]
              },
              {
                "name": "stderr",
                "output_type": "stream",
                "text": [
                  "WARNING:gensim.models.word2vec:EPOCH 240: supplied example count (2400) did not equal expected count (300)\n"
                ]
              },
              {
                "name": "stderr",
                "output_type": "stream",
                "text": [
                  "WARNING:gensim.models.word2vec:EPOCH 241: supplied example count (2400) did not equal expected count (300)\n"
                ]
              },
              {
                "name": "stderr",
                "output_type": "stream",
                "text": [
                  "WARNING:gensim.models.word2vec:EPOCH 242: supplied example count (2400) did not equal expected count (300)\n"
                ]
              },
              {
                "name": "stderr",
                "output_type": "stream",
                "text": [
                  "WARNING:gensim.models.word2vec:EPOCH 243: supplied example count (2400) did not equal expected count (300)\n"
                ]
              },
              {
                "name": "stderr",
                "output_type": "stream",
                "text": [
                  "WARNING:gensim.models.word2vec:EPOCH 244: supplied example count (2400) did not equal expected count (300)\n"
                ]
              },
              {
                "name": "stderr",
                "output_type": "stream",
                "text": [
                  "WARNING:gensim.models.word2vec:EPOCH 245: supplied example count (2400) did not equal expected count (300)\n"
                ]
              },
              {
                "name": "stderr",
                "output_type": "stream",
                "text": [
                  "WARNING:gensim.models.word2vec:EPOCH 246: supplied example count (2400) did not equal expected count (300)\n"
                ]
              },
              {
                "name": "stderr",
                "output_type": "stream",
                "text": [
                  "WARNING:gensim.models.word2vec:EPOCH 247: supplied example count (2400) did not equal expected count (300)\n"
                ]
              },
              {
                "name": "stderr",
                "output_type": "stream",
                "text": [
                  "WARNING:gensim.models.word2vec:EPOCH 248: supplied example count (2400) did not equal expected count (300)\n"
                ]
              },
              {
                "name": "stderr",
                "output_type": "stream",
                "text": [
                  "WARNING:gensim.models.word2vec:EPOCH 249: supplied example count (2400) did not equal expected count (300)\n"
                ]
              },
              {
                "name": "stderr",
                "output_type": "stream",
                "text": [
                  "WARNING:gensim.models.word2vec:EPOCH 250: supplied example count (2400) did not equal expected count (300)\n"
                ]
              },
              {
                "name": "stderr",
                "output_type": "stream",
                "text": [
                  "WARNING:gensim.models.word2vec:EPOCH 251: supplied example count (2400) did not equal expected count (300)\n"
                ]
              },
              {
                "name": "stderr",
                "output_type": "stream",
                "text": [
                  "WARNING:gensim.models.word2vec:EPOCH 252: supplied example count (2400) did not equal expected count (300)\n"
                ]
              },
              {
                "name": "stderr",
                "output_type": "stream",
                "text": [
                  "WARNING:gensim.models.word2vec:EPOCH 253: supplied example count (2400) did not equal expected count (300)\n"
                ]
              },
              {
                "name": "stderr",
                "output_type": "stream",
                "text": [
                  "WARNING:gensim.models.word2vec:EPOCH 254: supplied example count (2400) did not equal expected count (300)\n"
                ]
              },
              {
                "name": "stderr",
                "output_type": "stream",
                "text": [
                  "WARNING:gensim.models.word2vec:EPOCH 255: supplied example count (2400) did not equal expected count (300)\n"
                ]
              },
              {
                "name": "stderr",
                "output_type": "stream",
                "text": [
                  "WARNING:gensim.models.word2vec:EPOCH 256: supplied example count (2400) did not equal expected count (300)\n"
                ]
              },
              {
                "name": "stderr",
                "output_type": "stream",
                "text": [
                  "WARNING:gensim.models.word2vec:EPOCH 257: supplied example count (2400) did not equal expected count (300)\n"
                ]
              },
              {
                "name": "stderr",
                "output_type": "stream",
                "text": [
                  "WARNING:gensim.models.word2vec:EPOCH 258: supplied example count (2400) did not equal expected count (300)\n"
                ]
              },
              {
                "name": "stderr",
                "output_type": "stream",
                "text": [
                  "WARNING:gensim.models.word2vec:EPOCH 259: supplied example count (2400) did not equal expected count (300)\n"
                ]
              },
              {
                "name": "stderr",
                "output_type": "stream",
                "text": [
                  "WARNING:gensim.models.word2vec:EPOCH 260: supplied example count (2400) did not equal expected count (300)\n"
                ]
              },
              {
                "name": "stderr",
                "output_type": "stream",
                "text": [
                  "WARNING:gensim.models.word2vec:EPOCH 261: supplied example count (2400) did not equal expected count (300)\n"
                ]
              },
              {
                "name": "stderr",
                "output_type": "stream",
                "text": [
                  "WARNING:gensim.models.word2vec:EPOCH 262: supplied example count (2400) did not equal expected count (300)\n"
                ]
              },
              {
                "name": "stderr",
                "output_type": "stream",
                "text": [
                  "WARNING:gensim.models.word2vec:EPOCH 263: supplied example count (2400) did not equal expected count (300)\n"
                ]
              },
              {
                "name": "stderr",
                "output_type": "stream",
                "text": [
                  "WARNING:gensim.models.word2vec:EPOCH 264: supplied example count (2400) did not equal expected count (300)\n"
                ]
              },
              {
                "name": "stderr",
                "output_type": "stream",
                "text": [
                  "WARNING:gensim.models.word2vec:EPOCH 265: supplied example count (2400) did not equal expected count (300)\n"
                ]
              },
              {
                "name": "stderr",
                "output_type": "stream",
                "text": [
                  "WARNING:gensim.models.word2vec:EPOCH 266: supplied example count (2400) did not equal expected count (300)\n"
                ]
              },
              {
                "name": "stderr",
                "output_type": "stream",
                "text": [
                  "WARNING:gensim.models.word2vec:EPOCH 267: supplied example count (2400) did not equal expected count (300)\n"
                ]
              },
              {
                "name": "stderr",
                "output_type": "stream",
                "text": [
                  "WARNING:gensim.models.word2vec:EPOCH 268: supplied example count (2400) did not equal expected count (300)\n"
                ]
              },
              {
                "name": "stderr",
                "output_type": "stream",
                "text": [
                  "WARNING:gensim.models.word2vec:EPOCH 269: supplied example count (2400) did not equal expected count (300)\n"
                ]
              },
              {
                "name": "stderr",
                "output_type": "stream",
                "text": [
                  "WARNING:gensim.models.word2vec:EPOCH 270: supplied example count (2400) did not equal expected count (300)\n"
                ]
              },
              {
                "name": "stderr",
                "output_type": "stream",
                "text": [
                  "WARNING:gensim.models.word2vec:EPOCH 271: supplied example count (2400) did not equal expected count (300)\n"
                ]
              },
              {
                "name": "stderr",
                "output_type": "stream",
                "text": [
                  "WARNING:gensim.models.word2vec:EPOCH 272: supplied example count (2400) did not equal expected count (300)\n"
                ]
              },
              {
                "name": "stderr",
                "output_type": "stream",
                "text": [
                  "WARNING:gensim.models.word2vec:EPOCH 273: supplied example count (2400) did not equal expected count (300)\n"
                ]
              },
              {
                "name": "stderr",
                "output_type": "stream",
                "text": [
                  "WARNING:gensim.models.word2vec:EPOCH 274: supplied example count (2400) did not equal expected count (300)\n"
                ]
              },
              {
                "name": "stderr",
                "output_type": "stream",
                "text": [
                  "WARNING:gensim.models.word2vec:EPOCH 275: supplied example count (2400) did not equal expected count (300)\n"
                ]
              },
              {
                "name": "stderr",
                "output_type": "stream",
                "text": [
                  "WARNING:gensim.models.word2vec:EPOCH 276: supplied example count (2400) did not equal expected count (300)\n"
                ]
              },
              {
                "name": "stderr",
                "output_type": "stream",
                "text": [
                  "WARNING:gensim.models.word2vec:EPOCH 277: supplied example count (2400) did not equal expected count (300)\n"
                ]
              },
              {
                "name": "stderr",
                "output_type": "stream",
                "text": [
                  "WARNING:gensim.models.word2vec:EPOCH 278: supplied example count (2400) did not equal expected count (300)\n"
                ]
              },
              {
                "name": "stderr",
                "output_type": "stream",
                "text": [
                  "WARNING:gensim.models.word2vec:EPOCH 279: supplied example count (2400) did not equal expected count (300)\n"
                ]
              },
              {
                "name": "stderr",
                "output_type": "stream",
                "text": [
                  "WARNING:gensim.models.word2vec:EPOCH 280: supplied example count (2400) did not equal expected count (300)\n"
                ]
              },
              {
                "name": "stderr",
                "output_type": "stream",
                "text": [
                  "WARNING:gensim.models.word2vec:EPOCH 281: supplied example count (2400) did not equal expected count (300)\n"
                ]
              },
              {
                "name": "stderr",
                "output_type": "stream",
                "text": [
                  "WARNING:gensim.models.word2vec:EPOCH 282: supplied example count (2400) did not equal expected count (300)\n"
                ]
              },
              {
                "name": "stderr",
                "output_type": "stream",
                "text": [
                  "WARNING:gensim.models.word2vec:EPOCH 283: supplied example count (2400) did not equal expected count (300)\n"
                ]
              },
              {
                "name": "stderr",
                "output_type": "stream",
                "text": [
                  "WARNING:gensim.models.word2vec:EPOCH 284: supplied example count (2400) did not equal expected count (300)\n"
                ]
              },
              {
                "name": "stderr",
                "output_type": "stream",
                "text": [
                  "WARNING:gensim.models.word2vec:EPOCH 285: supplied example count (2400) did not equal expected count (300)\n"
                ]
              },
              {
                "name": "stderr",
                "output_type": "stream",
                "text": [
                  "WARNING:gensim.models.word2vec:EPOCH 286: supplied example count (2400) did not equal expected count (300)\n"
                ]
              },
              {
                "name": "stderr",
                "output_type": "stream",
                "text": [
                  "WARNING:gensim.models.word2vec:EPOCH 287: supplied example count (2400) did not equal expected count (300)\n"
                ]
              },
              {
                "name": "stderr",
                "output_type": "stream",
                "text": [
                  "WARNING:gensim.models.word2vec:EPOCH 288: supplied example count (2400) did not equal expected count (300)\n"
                ]
              },
              {
                "name": "stderr",
                "output_type": "stream",
                "text": [
                  "WARNING:gensim.models.word2vec:EPOCH 289: supplied example count (2400) did not equal expected count (300)\n"
                ]
              },
              {
                "name": "stderr",
                "output_type": "stream",
                "text": [
                  "WARNING:gensim.models.word2vec:EPOCH 290: supplied example count (2400) did not equal expected count (300)\n"
                ]
              },
              {
                "name": "stderr",
                "output_type": "stream",
                "text": [
                  "WARNING:gensim.models.word2vec:EPOCH 291: supplied example count (2400) did not equal expected count (300)\n"
                ]
              },
              {
                "name": "stderr",
                "output_type": "stream",
                "text": [
                  "WARNING:gensim.models.word2vec:EPOCH 292: supplied example count (2400) did not equal expected count (300)\n"
                ]
              },
              {
                "name": "stderr",
                "output_type": "stream",
                "text": [
                  "WARNING:gensim.models.word2vec:EPOCH 293: supplied example count (2400) did not equal expected count (300)\n"
                ]
              },
              {
                "name": "stderr",
                "output_type": "stream",
                "text": [
                  "WARNING:gensim.models.word2vec:EPOCH 294: supplied example count (2400) did not equal expected count (300)\n"
                ]
              },
              {
                "name": "stderr",
                "output_type": "stream",
                "text": [
                  "WARNING:gensim.models.word2vec:EPOCH 295: supplied example count (2400) did not equal expected count (300)\n"
                ]
              },
              {
                "name": "stderr",
                "output_type": "stream",
                "text": [
                  "WARNING:gensim.models.word2vec:EPOCH 296: supplied example count (2400) did not equal expected count (300)\n"
                ]
              },
              {
                "name": "stderr",
                "output_type": "stream",
                "text": [
                  "WARNING:gensim.models.word2vec:EPOCH 297: supplied example count (2400) did not equal expected count (300)\n"
                ]
              },
              {
                "name": "stderr",
                "output_type": "stream",
                "text": [
                  "WARNING:gensim.models.word2vec:EPOCH 298: supplied example count (2400) did not equal expected count (300)\n"
                ]
              },
              {
                "name": "stderr",
                "output_type": "stream",
                "text": [
                  "WARNING:gensim.models.word2vec:EPOCH 299: supplied example count (2400) did not equal expected count (300)\n"
                ]
              },
              {
                "name": "stdout",
                "output_type": "stream",
                "text": [
                  "The accuracy is: 80.00%\n",
                  "The accuracy using Doc2Vec and Logistic Regression as a classifier is: 80.00%\n"
                ]
              },
              {
                "data": {
                  "image/png": "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\n",
                  "text/plain": "<Figure size 800x700 with 2 Axes>"
                },
                "metadata": {},
                "output_type": "display_data"
              }
            ]
          }
        },
        "f83daf85a16544aaac7a510680a1f849": {
          "model_module": "@jupyter-widgets/base",
          "model_module_version": "1.2.0",
          "model_name": "LayoutModel",
          "state": {
            "_model_module": "@jupyter-widgets/base",
            "_model_module_version": "1.2.0",
            "_model_name": "LayoutModel",
            "_view_count": null,
            "_view_module": "@jupyter-widgets/base",
            "_view_module_version": "1.2.0",
            "_view_name": "LayoutView",
            "align_content": null,
            "align_items": null,
            "align_self": null,
            "border": null,
            "bottom": null,
            "display": null,
            "flex": null,
            "flex_flow": null,
            "grid_area": null,
            "grid_auto_columns": null,
            "grid_auto_flow": null,
            "grid_auto_rows": null,
            "grid_column": null,
            "grid_gap": null,
            "grid_row": null,
            "grid_template_areas": null,
            "grid_template_columns": null,
            "grid_template_rows": null,
            "height": null,
            "justify_content": null,
            "justify_items": null,
            "left": null,
            "margin": null,
            "max_height": null,
            "max_width": null,
            "min_height": null,
            "min_width": null,
            "object_fit": null,
            "object_position": null,
            "order": null,
            "overflow": null,
            "overflow_x": null,
            "overflow_y": null,
            "padding": null,
            "right": null,
            "top": null,
            "visibility": null,
            "width": null
          }
        }
      }
    }
  },
  "nbformat": 4,
  "nbformat_minor": 0
}
